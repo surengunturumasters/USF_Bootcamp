{
 "cells": [
  {
   "cell_type": "code",
   "execution_count": 1,
   "metadata": {},
   "outputs": [],
   "source": [
    "import numpy as np\n",
    "import pandas as pd"
   ]
  },
  {
   "cell_type": "code",
   "execution_count": 4,
   "metadata": {},
   "outputs": [
    {
     "name": "stdout",
     "output_type": "stream",
     "text": [
      " type: <class 'numpy.ndarray'>\n",
      "shape: (3,)\n"
     ]
    },
    {
     "data": {
      "text/plain": [
       "array([5, 7, 9])"
      ]
     },
     "execution_count": 4,
     "metadata": {},
     "output_type": "execute_result"
    }
   ],
   "source": [
    "a = np.array([1,2,3])\n",
    "b = np.array([4,5,6])\n",
    "print(\" type:\", type(a))\n",
    "print(\"shape:\", a.shape)\n",
    "a + b"
   ]
  },
  {
   "cell_type": "code",
   "execution_count": 5,
   "metadata": {},
   "outputs": [
    {
     "name": "stdout",
     "output_type": "stream",
     "text": [
      "<class 'numpy.ndarray'>\n",
      "(2, 3)\n",
      "[[0.47235642 0.97012546 0.22310255]\n",
      " [0.26951683 0.53981744 0.47627303]]\n"
     ]
    }
   ],
   "source": [
    "C = np.random.rand(2, 3)\n",
    "print(type(C))\n",
    "print(C.shape)\n",
    "print(C)"
   ]
  },
  {
   "cell_type": "code",
   "execution_count": 6,
   "metadata": {},
   "outputs": [
    {
     "data": {
      "text/plain": [
       "array([3.08191498, 2.77797081])"
      ]
     },
     "execution_count": 6,
     "metadata": {},
     "output_type": "execute_result"
    }
   ],
   "source": [
    "C @ a"
   ]
  },
  {
   "cell_type": "code",
   "execution_count": 7,
   "metadata": {},
   "outputs": [
    {
     "data": {
      "text/plain": [
       "array([3.08191498, 2.77797081])"
      ]
     },
     "execution_count": 7,
     "metadata": {},
     "output_type": "execute_result"
    }
   ],
   "source": [
    "C.dot(a)"
   ]
  },
  {
   "cell_type": "code",
   "execution_count": 8,
   "metadata": {},
   "outputs": [
    {
     "name": "stdout",
     "output_type": "stream",
     "text": [
      "<class 'pandas.core.frame.DataFrame'>\n"
     ]
    },
    {
     "data": {
      "text/html": [
       "<div>\n",
       "<style scoped>\n",
       "    .dataframe tbody tr th:only-of-type {\n",
       "        vertical-align: middle;\n",
       "    }\n",
       "\n",
       "    .dataframe tbody tr th {\n",
       "        vertical-align: top;\n",
       "    }\n",
       "\n",
       "    .dataframe thead th {\n",
       "        text-align: right;\n",
       "    }\n",
       "</style>\n",
       "<table border=\"1\" class=\"dataframe\">\n",
       "  <thead>\n",
       "    <tr style=\"text-align: right;\">\n",
       "      <th></th>\n",
       "      <th>MPG</th>\n",
       "      <th>CYL</th>\n",
       "      <th>ENG</th>\n",
       "      <th>WGT</th>\n",
       "    </tr>\n",
       "  </thead>\n",
       "  <tbody>\n",
       "    <tr>\n",
       "      <th>0</th>\n",
       "      <td>18.0</td>\n",
       "      <td>8</td>\n",
       "      <td>307.0</td>\n",
       "      <td>3504</td>\n",
       "    </tr>\n",
       "    <tr>\n",
       "      <th>1</th>\n",
       "      <td>15.0</td>\n",
       "      <td>8</td>\n",
       "      <td>350.0</td>\n",
       "      <td>3693</td>\n",
       "    </tr>\n",
       "    <tr>\n",
       "      <th>2</th>\n",
       "      <td>18.0</td>\n",
       "      <td>8</td>\n",
       "      <td>318.0</td>\n",
       "      <td>3436</td>\n",
       "    </tr>\n",
       "    <tr>\n",
       "      <th>3</th>\n",
       "      <td>16.0</td>\n",
       "      <td>8</td>\n",
       "      <td>304.0</td>\n",
       "      <td>3433</td>\n",
       "    </tr>\n",
       "    <tr>\n",
       "      <th>4</th>\n",
       "      <td>17.0</td>\n",
       "      <td>8</td>\n",
       "      <td>302.0</td>\n",
       "      <td>3449</td>\n",
       "    </tr>\n",
       "    <tr>\n",
       "      <th>...</th>\n",
       "      <td>...</td>\n",
       "      <td>...</td>\n",
       "      <td>...</td>\n",
       "      <td>...</td>\n",
       "    </tr>\n",
       "    <tr>\n",
       "      <th>387</th>\n",
       "      <td>27.0</td>\n",
       "      <td>4</td>\n",
       "      <td>140.0</td>\n",
       "      <td>2790</td>\n",
       "    </tr>\n",
       "    <tr>\n",
       "      <th>388</th>\n",
       "      <td>44.0</td>\n",
       "      <td>4</td>\n",
       "      <td>97.0</td>\n",
       "      <td>2130</td>\n",
       "    </tr>\n",
       "    <tr>\n",
       "      <th>389</th>\n",
       "      <td>32.0</td>\n",
       "      <td>4</td>\n",
       "      <td>135.0</td>\n",
       "      <td>2295</td>\n",
       "    </tr>\n",
       "    <tr>\n",
       "      <th>390</th>\n",
       "      <td>28.0</td>\n",
       "      <td>4</td>\n",
       "      <td>120.0</td>\n",
       "      <td>2625</td>\n",
       "    </tr>\n",
       "    <tr>\n",
       "      <th>391</th>\n",
       "      <td>31.0</td>\n",
       "      <td>4</td>\n",
       "      <td>119.0</td>\n",
       "      <td>2720</td>\n",
       "    </tr>\n",
       "  </tbody>\n",
       "</table>\n",
       "<p>392 rows × 4 columns</p>\n",
       "</div>"
      ],
      "text/plain": [
       "      MPG  CYL    ENG   WGT\n",
       "0    18.0    8  307.0  3504\n",
       "1    15.0    8  350.0  3693\n",
       "2    18.0    8  318.0  3436\n",
       "3    16.0    8  304.0  3433\n",
       "4    17.0    8  302.0  3449\n",
       "..    ...  ...    ...   ...\n",
       "387  27.0    4  140.0  2790\n",
       "388  44.0    4   97.0  2130\n",
       "389  32.0    4  135.0  2295\n",
       "390  28.0    4  120.0  2625\n",
       "391  31.0    4  119.0  2720\n",
       "\n",
       "[392 rows x 4 columns]"
      ]
     },
     "execution_count": 8,
     "metadata": {},
     "output_type": "execute_result"
    }
   ],
   "source": [
    "df_cars = pd.read_csv(\"data/cars.csv\")\n",
    "print(type(df_cars))\n",
    "df_cars"
   ]
  },
  {
   "cell_type": "code",
   "execution_count": 9,
   "metadata": {},
   "outputs": [
    {
     "name": "stdout",
     "output_type": "stream",
     "text": [
      "<class 'pandas.core.series.Series'>\n",
      "0      18.0\n",
      "1      15.0\n",
      "2      18.0\n",
      "3      16.0\n",
      "4      17.0\n",
      "       ... \n",
      "387    27.0\n",
      "388    44.0\n",
      "389    32.0\n",
      "390    28.0\n",
      "391    31.0\n",
      "Name: MPG, Length: 392, dtype: float64\n"
     ]
    }
   ],
   "source": [
    "mpg = df_cars['MPG'] #get a column\n",
    "print(type(mpg))\n",
    "print(mpg)"
   ]
  },
  {
   "cell_type": "code",
   "execution_count": 11,
   "metadata": {},
   "outputs": [
    {
     "name": "stdout",
     "output_type": "stream",
     "text": [
      "<class 'pandas.core.frame.DataFrame'>\n",
      "RangeIndex: 392 entries, 0 to 391\n",
      "Data columns (total 4 columns):\n",
      " #   Column  Non-Null Count  Dtype  \n",
      "---  ------  --------------  -----  \n",
      " 0   MPG     392 non-null    float64\n",
      " 1   CYL     392 non-null    int64  \n",
      " 2   ENG     392 non-null    float64\n",
      " 3   WGT     392 non-null    int64  \n",
      "dtypes: float64(2), int64(2)\n",
      "memory usage: 12.4 KB\n"
     ]
    }
   ],
   "source": [
    "df_cars.info()"
   ]
  },
  {
   "cell_type": "code",
   "execution_count": 12,
   "metadata": {},
   "outputs": [
    {
     "data": {
      "text/html": [
       "<div>\n",
       "<style scoped>\n",
       "    .dataframe tbody tr th:only-of-type {\n",
       "        vertical-align: middle;\n",
       "    }\n",
       "\n",
       "    .dataframe tbody tr th {\n",
       "        vertical-align: top;\n",
       "    }\n",
       "\n",
       "    .dataframe thead th {\n",
       "        text-align: right;\n",
       "    }\n",
       "</style>\n",
       "<table border=\"1\" class=\"dataframe\">\n",
       "  <thead>\n",
       "    <tr style=\"text-align: right;\">\n",
       "      <th></th>\n",
       "      <th>MPG</th>\n",
       "      <th>CYL</th>\n",
       "      <th>ENG</th>\n",
       "      <th>WGT</th>\n",
       "    </tr>\n",
       "  </thead>\n",
       "  <tbody>\n",
       "    <tr>\n",
       "      <th>count</th>\n",
       "      <td>392.000000</td>\n",
       "      <td>392.000000</td>\n",
       "      <td>392.000000</td>\n",
       "      <td>392.000000</td>\n",
       "    </tr>\n",
       "    <tr>\n",
       "      <th>mean</th>\n",
       "      <td>23.445918</td>\n",
       "      <td>5.471939</td>\n",
       "      <td>194.411990</td>\n",
       "      <td>2977.584184</td>\n",
       "    </tr>\n",
       "    <tr>\n",
       "      <th>std</th>\n",
       "      <td>7.805007</td>\n",
       "      <td>1.705783</td>\n",
       "      <td>104.644004</td>\n",
       "      <td>849.402560</td>\n",
       "    </tr>\n",
       "    <tr>\n",
       "      <th>min</th>\n",
       "      <td>9.000000</td>\n",
       "      <td>3.000000</td>\n",
       "      <td>68.000000</td>\n",
       "      <td>1613.000000</td>\n",
       "    </tr>\n",
       "    <tr>\n",
       "      <th>25%</th>\n",
       "      <td>17.000000</td>\n",
       "      <td>4.000000</td>\n",
       "      <td>105.000000</td>\n",
       "      <td>2225.250000</td>\n",
       "    </tr>\n",
       "    <tr>\n",
       "      <th>50%</th>\n",
       "      <td>22.750000</td>\n",
       "      <td>4.000000</td>\n",
       "      <td>151.000000</td>\n",
       "      <td>2803.500000</td>\n",
       "    </tr>\n",
       "    <tr>\n",
       "      <th>75%</th>\n",
       "      <td>29.000000</td>\n",
       "      <td>8.000000</td>\n",
       "      <td>275.750000</td>\n",
       "      <td>3614.750000</td>\n",
       "    </tr>\n",
       "    <tr>\n",
       "      <th>max</th>\n",
       "      <td>46.599998</td>\n",
       "      <td>8.000000</td>\n",
       "      <td>455.000000</td>\n",
       "      <td>5140.000000</td>\n",
       "    </tr>\n",
       "  </tbody>\n",
       "</table>\n",
       "</div>"
      ],
      "text/plain": [
       "              MPG         CYL         ENG          WGT\n",
       "count  392.000000  392.000000  392.000000   392.000000\n",
       "mean    23.445918    5.471939  194.411990  2977.584184\n",
       "std      7.805007    1.705783  104.644004   849.402560\n",
       "min      9.000000    3.000000   68.000000  1613.000000\n",
       "25%     17.000000    4.000000  105.000000  2225.250000\n",
       "50%     22.750000    4.000000  151.000000  2803.500000\n",
       "75%     29.000000    8.000000  275.750000  3614.750000\n",
       "max     46.599998    8.000000  455.000000  5140.000000"
      ]
     },
     "execution_count": 12,
     "metadata": {},
     "output_type": "execute_result"
    }
   ],
   "source": [
    "df_cars.describe()"
   ]
  },
  {
   "cell_type": "code",
   "execution_count": 13,
   "metadata": {},
   "outputs": [
    {
     "data": {
      "text/html": [
       "<div>\n",
       "<style scoped>\n",
       "    .dataframe tbody tr th:only-of-type {\n",
       "        vertical-align: middle;\n",
       "    }\n",
       "\n",
       "    .dataframe tbody tr th {\n",
       "        vertical-align: top;\n",
       "    }\n",
       "\n",
       "    .dataframe thead th {\n",
       "        text-align: right;\n",
       "    }\n",
       "</style>\n",
       "<table border=\"1\" class=\"dataframe\">\n",
       "  <thead>\n",
       "    <tr style=\"text-align: right;\">\n",
       "      <th></th>\n",
       "      <th>A</th>\n",
       "      <th>B</th>\n",
       "      <th>C</th>\n",
       "    </tr>\n",
       "  </thead>\n",
       "  <tbody>\n",
       "    <tr>\n",
       "      <th>0</th>\n",
       "      <td>0.376446</td>\n",
       "      <td>0.117407</td>\n",
       "      <td>0.339819</td>\n",
       "    </tr>\n",
       "    <tr>\n",
       "      <th>1</th>\n",
       "      <td>0.997011</td>\n",
       "      <td>0.436117</td>\n",
       "      <td>0.683915</td>\n",
       "    </tr>\n",
       "  </tbody>\n",
       "</table>\n",
       "</div>"
      ],
      "text/plain": [
       "          A         B         C\n",
       "0  0.376446  0.117407  0.339819\n",
       "1  0.997011  0.436117  0.683915"
      ]
     },
     "execution_count": 13,
     "metadata": {},
     "output_type": "execute_result"
    }
   ],
   "source": [
    "pd.DataFrame(np.random.rand(2, 3), columns = ['A', \"B\", \"C\"])"
   ]
  },
  {
   "cell_type": "code",
   "execution_count": 15,
   "metadata": {},
   "outputs": [],
   "source": [
    "import matplotlib.pyplot as plt\n",
    "%config InlineBackend.figure_format = 'retina'"
   ]
  },
  {
   "cell_type": "code",
   "execution_count": 16,
   "metadata": {},
   "outputs": [
    {
     "data": {
      "image/png": "[encoded data removed]",
      "text/plain": [
       "<Figure size 432x288 with 1 Axes>"
      ]
     },
     "metadata": {
      "image/png": {
       "height": 248,
       "width": 368
      },
      "needs_background": "light"
     },
     "output_type": "display_data"
    }
   ],
   "source": [
    "fig, ax = plt.subplots()\n",
    "ax.scatter(df_cars['WGT'], df_cars['MPG'])\n",
    "plt.show()"
   ]
  },
  {
   "cell_type": "code",
   "execution_count": 17,
   "metadata": {},
   "outputs": [
    {
     "data": {
      "text/plain": [
       "Text(0.5, 1.0, 'Cars dataset, effect of weight on mpg')"
      ]
     },
     "execution_count": 17,
     "metadata": {},
     "output_type": "execute_result"
    },
    {
     "data": {
      "image/png": "[encoded data removed]",
      "text/plain": [
       "<Figure size 360x165.6 with 1 Axes>"
      ]
     },
     "metadata": {
      "image/png": {
       "height": 184,
       "width": 326
      },
      "needs_background": "light"
     },
     "output_type": "display_data"
    }
   ],
   "source": [
    "fig, ax = plt.subplots(figsize=(5,2.3))\n",
    "ax.scatter(df_cars['WGT'], df_cars['MPG'], c = '#415BA3', alpha = .3, s = 40)\n",
    "m = df_cars['MPG'].mean()\n",
    "ax.set_xlabel(\"weight\")\n",
    "ax.set_ylabel(\"Miles per gallon\")\n",
    "ax.set_title(\"Cars dataset, effect of weight on mpg\")"
   ]
  },
  {
   "cell_type": "markdown",
   "metadata": {},
   "source": [
    "## Crash Course in Python used in EDA"
   ]
  },
  {
   "cell_type": "code",
   "execution_count": 18,
   "metadata": {},
   "outputs": [],
   "source": [
    "x = 10 "
   ]
  },
  {
   "cell_type": "code",
   "execution_count": 24,
   "metadata": {},
   "outputs": [],
   "source": [
    "y = sum([1, 10, 100, 1000])"
   ]
  },
  {
   "cell_type": "code",
   "execution_count": 25,
   "metadata": {},
   "outputs": [
    {
     "data": {
      "text/plain": [
       "10"
      ]
     },
     "execution_count": 25,
     "metadata": {},
     "output_type": "execute_result"
    }
   ],
   "source": [
    "x"
   ]
  },
  {
   "cell_type": "code",
   "execution_count": 26,
   "metadata": {},
   "outputs": [
    {
     "data": {
      "text/plain": [
       "15.0"
      ]
     },
     "execution_count": 26,
     "metadata": {},
     "output_type": "execute_result"
    }
   ],
   "source": [
    "x * 1.5"
   ]
  },
  {
   "cell_type": "code",
   "execution_count": 27,
   "metadata": {},
   "outputs": [
    {
     "data": {
      "text/plain": [
       "1111"
      ]
     },
     "execution_count": 27,
     "metadata": {},
     "output_type": "execute_result"
    }
   ],
   "source": [
    "sum([1, 10, 100, 1000])"
   ]
  },
  {
   "cell_type": "code",
   "execution_count": 28,
   "metadata": {},
   "outputs": [
    {
     "data": {
      "text/plain": [
       "(31.400000000000002, 1111)"
      ]
     },
     "execution_count": 28,
     "metadata": {},
     "output_type": "execute_result"
    }
   ],
   "source": [
    "x * 3.14, y"
   ]
  },
  {
   "cell_type": "code",
   "execution_count": 30,
   "metadata": {},
   "outputs": [
    {
     "data": {
      "text/plain": [
       "10"
      ]
     },
     "execution_count": 30,
     "metadata": {},
     "output_type": "execute_result"
    }
   ],
   "source": [
    "a = [10, 20, 30, 40]\n",
    "a[0]"
   ]
  },
  {
   "cell_type": "code",
   "execution_count": 31,
   "metadata": {},
   "outputs": [
    {
     "data": {
      "text/plain": [
       "40"
      ]
     },
     "execution_count": 31,
     "metadata": {},
     "output_type": "execute_result"
    }
   ],
   "source": [
    "a[-1]"
   ]
  },
  {
   "cell_type": "code",
   "execution_count": 32,
   "metadata": {},
   "outputs": [
    {
     "data": {
      "text/plain": [
       "[20, 30]"
      ]
     },
     "execution_count": 32,
     "metadata": {},
     "output_type": "execute_result"
    }
   ],
   "source": [
    "a[1:3]"
   ]
  },
  {
   "cell_type": "code",
   "execution_count": 3,
   "metadata": {},
   "outputs": [
    {
     "data": {
      "text/plain": [
       "[1, 2, 3]"
      ]
     },
     "execution_count": 3,
     "metadata": {},
     "output_type": "execute_result"
    }
   ],
   "source": [
    "a = [[1,2,3],[4,5,6]]\n",
    "a[0]"
   ]
  },
  {
   "cell_type": "code",
   "execution_count": 34,
   "metadata": {},
   "outputs": [],
   "source": [
    "from lolviz import *"
   ]
  },
  {
   "cell_type": "code",
   "execution_count": 35,
   "metadata": {},
   "outputs": [
    {
     "data": {
      "image/svg+xml": [
       "<?xml version=\"1.0\" encoding=\"UTF-8\" standalone=\"no\"?>\n",
       "<!DOCTYPE svg PUBLIC \"-//W3C//DTD SVG 1.1//EN\"\n",
       " \"http://www.w3.org/Graphics/SVG/1.1/DTD/svg11.dtd\">\n",
       "<!-- Generated by graphviz version 2.44.1 (20200629.0846)\n",
       " -->\n",
       "<!-- Title: G Pages: 1 -->\n",
       "<svg width=\"90pt\" height=\"76pt\"\n",
       " viewBox=\"0.00 0.00 90.00 76.00\" xmlns=\"http://www.w3.org/2000/svg\" xmlns:xlink=\"http://www.w3.org/1999/xlink\">\n",
       "<g id=\"graph0\" class=\"graph\" transform=\"scale(1 1) rotate(0) translate(4 72)\">\n",
       "<title>G</title>\n",
       "<polygon fill=\"white\" stroke=\"transparent\" points=\"-4,4 -4,-72 86,-72 86,4 -4,4\"/>\n",
       "<!-- node140238852537216 -->\n",
       "<g id=\"node1\" class=\"node\">\n",
       "<title>node140238852537216</title>\n",
       "<polygon fill=\"#cfe2d4\" stroke=\"#444443\" stroke-width=\"0.5\" points=\"14,-51 0,-51 0,-17 14,-17 14,-51\"/>\n",
       "<polygon fill=\"#cfe2d4\" stroke=\"transparent\" points=\"1,-34 1,-50 13,-50 13,-34 1,-34\"/>\n",
       "<polyline fill=\"none\" stroke=\"#444443\" points=\"1,-34 13,-34 \"/>\n",
       "<text text-anchor=\"start\" x=\"4\" y=\"-39.8\" font-family=\"Helvetica,sans-Serif\" font-size=\"9.00\" fill=\"#444443\">0</text>\n",
       "<polygon fill=\"#cfe2d4\" stroke=\"transparent\" points=\"1,-18 1,-34 13,-34 13,-18 1,-18\"/>\n",
       "<text text-anchor=\"start\" x=\"4\" y=\"-23.8\" font-family=\"Helvetica,sans-Serif\" font-size=\"9.00\" fill=\"#444443\">1</text>\n",
       "</g>\n",
       "<!-- node140238858916928 -->\n",
       "<g id=\"node2\" class=\"node\">\n",
       "<title>node140238858916928</title>\n",
       "<polygon fill=\"none\" stroke=\"black\" stroke-width=\"0.5\" points=\"82,-68 43,-68 43,-36 82,-36 82,-68\"/>\n",
       "<polygon fill=\"#fefecd\" stroke=\"transparent\" points=\"44.5,-55 44.5,-67 57.5,-67 57.5,-55 44.5,-55\"/>\n",
       "<polyline fill=\"none\" stroke=\"black\" points=\"44.5,-55 57.5,-55 57.5,-67 \"/>\n",
       "<text text-anchor=\"start\" x=\"48\" y=\"-58.8\" font-family=\"Helvetica,sans-Serif\" font-size=\"9.00\" fill=\"#444443\">0</text>\n",
       "<polygon fill=\"#fefecd\" stroke=\"transparent\" points=\"57.5,-55 57.5,-67 70.5,-67 70.5,-55 57.5,-55\"/>\n",
       "<polyline fill=\"none\" stroke=\"black\" points=\"57.5,-55 70.5,-55 70.5,-67 \"/>\n",
       "<text text-anchor=\"start\" x=\"61\" y=\"-58.8\" font-family=\"Helvetica,sans-Serif\" font-size=\"9.00\" fill=\"#444443\">1</text>\n",
       "<polygon fill=\"#fefecd\" stroke=\"transparent\" points=\"70.5,-55 70.5,-67 81.5,-67 81.5,-55 70.5,-55\"/>\n",
       "<polyline fill=\"none\" stroke=\"black\" points=\"70.5,-55 81.5,-55 \"/>\n",
       "<text text-anchor=\"start\" x=\"73\" y=\"-58.8\" font-family=\"Helvetica,sans-Serif\" font-size=\"9.00\" fill=\"#444443\">2</text>\n",
       "<polygon fill=\"#fefecd\" stroke=\"transparent\" points=\"44.5,-37 44.5,-55 57.5,-55 57.5,-37 44.5,-37\"/>\n",
       "<polyline fill=\"none\" stroke=\"black\" points=\"57.5,-37 57.5,-55 \"/>\n",
       "<text text-anchor=\"start\" x=\"47.5\" y=\"-43.2\" font-family=\"Helvetica,sans-Serif\" font-size=\"11.00\" fill=\"#444443\">1</text>\n",
       "<polygon fill=\"#fefecd\" stroke=\"transparent\" points=\"57.5,-37 57.5,-55 70.5,-55 70.5,-37 57.5,-37\"/>\n",
       "<polyline fill=\"none\" stroke=\"black\" points=\"70.5,-37 70.5,-55 \"/>\n",
       "<text text-anchor=\"start\" x=\"60.5\" y=\"-43.2\" font-family=\"Helvetica,sans-Serif\" font-size=\"11.00\" fill=\"#444443\">2</text>\n",
       "<polygon fill=\"#fefecd\" stroke=\"transparent\" points=\"70.5,-37 70.5,-55 81.5,-55 81.5,-37 70.5,-37\"/>\n",
       "<text text-anchor=\"start\" x=\"72.5\" y=\"-43.2\" font-family=\"Helvetica,sans-Serif\" font-size=\"11.00\" fill=\"#444443\">3</text>\n",
       "</g>\n",
       "<!-- node140238852537216&#45;&gt;node140238858916928 -->\n",
       "<g id=\"edge1\" class=\"edge\">\n",
       "<title>node140238852537216:0&#45;&gt;node140238858916928:w</title>\n",
       "<path fill=\"none\" stroke=\"#444443\" stroke-width=\"0.5\" d=\"M14,-42C26.14,-42 28.84,-49.93 38.92,-51.67\"/>\n",
       "<polygon fill=\"#444443\" stroke=\"#444443\" stroke-width=\"0.5\" points=\"38.9,-53.07 43,-52 39.13,-50.28 38.9,-53.07\"/>\n",
       "</g>\n",
       "<!-- node140238858771392 -->\n",
       "<g id=\"node3\" class=\"node\">\n",
       "<title>node140238858771392</title>\n",
       "<polygon fill=\"none\" stroke=\"black\" stroke-width=\"0.5\" points=\"82,-32 43,-32 43,0 82,0 82,-32\"/>\n",
       "<polygon fill=\"#fefecd\" stroke=\"transparent\" points=\"44.5,-19 44.5,-31 57.5,-31 57.5,-19 44.5,-19\"/>\n",
       "<polyline fill=\"none\" stroke=\"black\" points=\"44.5,-19 57.5,-19 57.5,-31 \"/>\n",
       "<text text-anchor=\"start\" x=\"48\" y=\"-22.8\" font-family=\"Helvetica,sans-Serif\" font-size=\"9.00\" fill=\"#444443\">0</text>\n",
       "<polygon fill=\"#fefecd\" stroke=\"transparent\" points=\"57.5,-19 57.5,-31 70.5,-31 70.5,-19 57.5,-19\"/>\n",
       "<polyline fill=\"none\" stroke=\"black\" points=\"57.5,-19 70.5,-19 70.5,-31 \"/>\n",
       "<text text-anchor=\"start\" x=\"61\" y=\"-22.8\" font-family=\"Helvetica,sans-Serif\" font-size=\"9.00\" fill=\"#444443\">1</text>\n",
       "<polygon fill=\"#fefecd\" stroke=\"transparent\" points=\"70.5,-19 70.5,-31 81.5,-31 81.5,-19 70.5,-19\"/>\n",
       "<polyline fill=\"none\" stroke=\"black\" points=\"70.5,-19 81.5,-19 \"/>\n",
       "<text text-anchor=\"start\" x=\"73\" y=\"-22.8\" font-family=\"Helvetica,sans-Serif\" font-size=\"9.00\" fill=\"#444443\">2</text>\n",
       "<polygon fill=\"#fefecd\" stroke=\"transparent\" points=\"44.5,-1 44.5,-19 57.5,-19 57.5,-1 44.5,-1\"/>\n",
       "<polyline fill=\"none\" stroke=\"black\" points=\"57.5,-1 57.5,-19 \"/>\n",
       "<text text-anchor=\"start\" x=\"47.5\" y=\"-7.2\" font-family=\"Helvetica,sans-Serif\" font-size=\"11.00\" fill=\"#444443\">4</text>\n",
       "<polygon fill=\"#fefecd\" stroke=\"transparent\" points=\"57.5,-1 57.5,-19 70.5,-19 70.5,-1 57.5,-1\"/>\n",
       "<polyline fill=\"none\" stroke=\"black\" points=\"70.5,-1 70.5,-19 \"/>\n",
       "<text text-anchor=\"start\" x=\"60.5\" y=\"-7.2\" font-family=\"Helvetica,sans-Serif\" font-size=\"11.00\" fill=\"#444443\">5</text>\n",
       "<polygon fill=\"#fefecd\" stroke=\"transparent\" points=\"70.5,-1 70.5,-19 81.5,-19 81.5,-1 70.5,-1\"/>\n",
       "<text text-anchor=\"start\" x=\"72.5\" y=\"-7.2\" font-family=\"Helvetica,sans-Serif\" font-size=\"11.00\" fill=\"#444443\">6</text>\n",
       "</g>\n",
       "<!-- node140238852537216&#45;&gt;node140238858771392 -->\n",
       "<g id=\"edge2\" class=\"edge\">\n",
       "<title>node140238852537216:1&#45;&gt;node140238858771392:w</title>\n",
       "<path fill=\"none\" stroke=\"#444443\" stroke-width=\"0.5\" d=\"M14,-26C26.14,-26 28.84,-18.07 38.92,-16.33\"/>\n",
       "<polygon fill=\"#444443\" stroke=\"#444443\" stroke-width=\"0.5\" points=\"39.13,-17.72 43,-16 38.9,-14.93 39.13,-17.72\"/>\n",
       "</g>\n",
       "</g>\n",
       "</svg>\n"
      ],
      "text/plain": [
       "<graphviz.files.Source at 0x7f8be75ddd90>"
      ]
     },
     "execution_count": 35,
     "metadata": {},
     "output_type": "execute_result"
    }
   ],
   "source": [
    "lolviz(a)"
   ]
  },
  {
   "cell_type": "code",
   "execution_count": 36,
   "metadata": {},
   "outputs": [
    {
     "data": {
      "text/plain": [
       "[1, 2, 3]"
      ]
     },
     "execution_count": 36,
     "metadata": {},
     "output_type": "execute_result"
    }
   ],
   "source": [
    "a[0]"
   ]
  },
  {
   "cell_type": "code",
   "execution_count": 37,
   "metadata": {},
   "outputs": [
    {
     "data": {
      "text/plain": [
       "3"
      ]
     },
     "execution_count": 37,
     "metadata": {},
     "output_type": "execute_result"
    }
   ],
   "source": [
    "a[0][2]"
   ]
  },
  {
   "cell_type": "code",
   "execution_count": 38,
   "metadata": {},
   "outputs": [
    {
     "data": {
      "text/plain": [
       "3"
      ]
     },
     "execution_count": 38,
     "metadata": {},
     "output_type": "execute_result"
    }
   ],
   "source": [
    "(a[0])[2]"
   ]
  },
  {
   "cell_type": "code",
   "execution_count": 39,
   "metadata": {},
   "outputs": [],
   "source": [
    "a = np.array(a)"
   ]
  },
  {
   "cell_type": "code",
   "execution_count": 40,
   "metadata": {},
   "outputs": [
    {
     "data": {
      "text/plain": [
       "array([[1, 2, 3],\n",
       "       [4, 5, 6]])"
      ]
     },
     "execution_count": 40,
     "metadata": {},
     "output_type": "execute_result"
    }
   ],
   "source": [
    "a"
   ]
  },
  {
   "cell_type": "code",
   "execution_count": 42,
   "metadata": {},
   "outputs": [
    {
     "data": {
      "image/svg+xml": [
       "<?xml version=\"1.0\" encoding=\"UTF-8\" standalone=\"no\"?>\n",
       "<!DOCTYPE svg PUBLIC \"-//W3C//DTD SVG 1.1//EN\"\n",
       " \"http://www.w3.org/Graphics/SVG/1.1/DTD/svg11.dtd\">\n",
       "<!-- Generated by graphviz version 2.44.1 (20200629.0846)\n",
       " -->\n",
       "<!-- Title: G Pages: 1 -->\n",
       "<svg width=\"46pt\" height=\"44pt\"\n",
       " viewBox=\"0.00 0.00 46.00 44.00\" xmlns=\"http://www.w3.org/2000/svg\" xmlns:xlink=\"http://www.w3.org/1999/xlink\">\n",
       "<g id=\"graph0\" class=\"graph\" transform=\"scale(1 1) rotate(0) translate(4 40)\">\n",
       "<title>G</title>\n",
       "<polygon fill=\"white\" stroke=\"transparent\" points=\"-4,4 -4,-40 42,-40 42,4 -4,4\"/>\n",
       "<!-- node140238858958368 -->\n",
       "<g id=\"node1\" class=\"node\">\n",
       "<title>node140238858958368</title>\n",
       "<polygon fill=\"none\" stroke=\"black\" stroke-width=\"0.5\" points=\"38,-36 0,-36 0,0 38,0 38,-36\"/>\n",
       "<polygon fill=\"#fefecd\" stroke=\"transparent\" points=\"1,-18 1,-35 13,-35 13,-18 1,-18\"/>\n",
       "<text text-anchor=\"start\" x=\"4\" y=\"-24\" font-family=\"Helvetica,sans-Serif\" font-size=\"10.00\" fill=\"#444443\">1</text>\n",
       "<polygon fill=\"#fefecd\" stroke=\"transparent\" points=\"13,-18 13,-35 25,-35 25,-18 13,-18\"/>\n",
       "<text text-anchor=\"start\" x=\"16\" y=\"-24\" font-family=\"Helvetica,sans-Serif\" font-size=\"10.00\" fill=\"#444443\">2</text>\n",
       "<polygon fill=\"#fefecd\" stroke=\"transparent\" points=\"25,-18 25,-35 37,-35 37,-18 25,-18\"/>\n",
       "<text text-anchor=\"start\" x=\"28\" y=\"-24\" font-family=\"Helvetica,sans-Serif\" font-size=\"10.00\" fill=\"#444443\">3</text>\n",
       "<polygon fill=\"#fefecd\" stroke=\"transparent\" points=\"1,-1 1,-18 13,-18 13,-1 1,-1\"/>\n",
       "<text text-anchor=\"start\" x=\"4\" y=\"-7\" font-family=\"Helvetica,sans-Serif\" font-size=\"10.00\" fill=\"#444443\">4</text>\n",
       "<polygon fill=\"#fefecd\" stroke=\"transparent\" points=\"13,-1 13,-18 25,-18 25,-1 13,-1\"/>\n",
       "<text text-anchor=\"start\" x=\"16\" y=\"-7\" font-family=\"Helvetica,sans-Serif\" font-size=\"10.00\" fill=\"#444443\">5</text>\n",
       "<polygon fill=\"#fefecd\" stroke=\"transparent\" points=\"25,-1 25,-18 37,-18 37,-1 25,-1\"/>\n",
       "<text text-anchor=\"start\" x=\"28\" y=\"-7\" font-family=\"Helvetica,sans-Serif\" font-size=\"10.00\" fill=\"#444443\">6</text>\n",
       "</g>\n",
       "</g>\n",
       "</svg>\n"
      ],
      "text/plain": [
       "<graphviz.files.Source at 0x7f8be7150490>"
      ]
     },
     "execution_count": 42,
     "metadata": {},
     "output_type": "execute_result"
    }
   ],
   "source": [
    "objviz(a) #lolviz senses numpy not list of lists"
   ]
  },
  {
   "cell_type": "code",
   "execution_count": 43,
   "metadata": {},
   "outputs": [
    {
     "data": {
      "text/plain": [
       "3"
      ]
     },
     "execution_count": 43,
     "metadata": {},
     "output_type": "execute_result"
    }
   ],
   "source": [
    "a[0,2] #use this notation for numpy array instead of a[0][2]"
   ]
  },
  {
   "cell_type": "code",
   "execution_count": 44,
   "metadata": {},
   "outputs": [
    {
     "data": {
      "image/svg+xml": [
       "<?xml version=\"1.0\" encoding=\"UTF-8\" standalone=\"no\"?>\n",
       "<!DOCTYPE svg PUBLIC \"-//W3C//DTD SVG 1.1//EN\"\n",
       " \"http://www.w3.org/Graphics/SVG/1.1/DTD/svg11.dtd\">\n",
       "<!-- Generated by graphviz version 2.44.1 (20200629.0846)\n",
       " -->\n",
       "<!-- Title: G Pages: 1 -->\n",
       "<svg width=\"149pt\" height=\"65pt\"\n",
       " viewBox=\"0.00 0.00 149.00 65.00\" xmlns=\"http://www.w3.org/2000/svg\" xmlns:xlink=\"http://www.w3.org/1999/xlink\">\n",
       "<g id=\"graph0\" class=\"graph\" transform=\"scale(1 1) rotate(0) translate(4 61)\">\n",
       "<title>G</title>\n",
       "<polygon fill=\"white\" stroke=\"transparent\" points=\"-4,4 -4,-61 145,-61 145,4 -4,4\"/>\n",
       "<!-- node140238854047808 -->\n",
       "<g id=\"node1\" class=\"node\">\n",
       "<title>node140238854047808</title>\n",
       "<polygon fill=\"#fefecd\" stroke=\"#444443\" stroke-width=\"0.5\" points=\"61,-57 0,-57 0,-7 61,-7 61,-57\"/>\n",
       "<polygon fill=\"#fefecd\" stroke=\"transparent\" points=\"2.5,-41 2.5,-55 34.5,-55 34.5,-41 2.5,-41\"/>\n",
       "<text text-anchor=\"start\" x=\"8.5\" y=\"-45.2\" font-family=\"Helvetica,sans-Serif\" font-size=\"11.00\" fill=\"#444443\">&#39;tom&#39; </text>\n",
       "<text text-anchor=\"start\" x=\"34.5\" y=\"-43.8\" font-family=\"Helvetica,sans-Serif\" font-size=\"9.00\" fill=\"#444443\">→</text>\n",
       "<polygon fill=\"#fefecd\" stroke=\"transparent\" points=\"44.5,-41 44.5,-55 59.5,-55 59.5,-41 44.5,-41\"/>\n",
       "<text text-anchor=\"start\" x=\"45.5\" y=\"-45.2\" font-family=\"Helvetica,sans-Serif\" font-size=\"11.00\" fill=\"#444443\"> 3</text>\n",
       "<polygon fill=\"#fefecd\" stroke=\"transparent\" points=\"2.5,-39 2.5,-41 59.5,-41 59.5,-39 2.5,-39\"/>\n",
       "<polygon fill=\"#fefecd\" stroke=\"transparent\" points=\"2.5,-25 2.5,-39 34.5,-39 34.5,-25 2.5,-25\"/>\n",
       "<text text-anchor=\"start\" x=\"2.5\" y=\"-29.2\" font-family=\"Helvetica,sans-Serif\" font-size=\"11.00\" fill=\"#444443\">&#39;mary&#39; </text>\n",
       "<text text-anchor=\"start\" x=\"34.5\" y=\"-27.8\" font-family=\"Helvetica,sans-Serif\" font-size=\"9.00\" fill=\"#444443\">→</text>\n",
       "<polygon fill=\"#fefecd\" stroke=\"transparent\" points=\"44.5,-25 44.5,-39 59.5,-39 59.5,-25 44.5,-25\"/>\n",
       "<text text-anchor=\"start\" x=\"45.5\" y=\"-29.2\" font-family=\"Helvetica,sans-Serif\" font-size=\"11.00\" fill=\"#444443\"> 9</text>\n",
       "<polygon fill=\"#fefecd\" stroke=\"transparent\" points=\"2.5,-23 2.5,-25 59.5,-25 59.5,-23 2.5,-23\"/>\n",
       "<polygon fill=\"#fefecd\" stroke=\"transparent\" points=\"2.5,-9 2.5,-23 34.5,-23 34.5,-9 2.5,-9\"/>\n",
       "<text text-anchor=\"start\" x=\"3.5\" y=\"-13.2\" font-family=\"Helvetica,sans-Serif\" font-size=\"11.00\" fill=\"#444443\">&#39;parrt&#39; </text>\n",
       "<text text-anchor=\"start\" x=\"34.5\" y=\"-11.8\" font-family=\"Helvetica,sans-Serif\" font-size=\"9.00\" fill=\"#444443\">→</text>\n",
       "<polygon fill=\"#fefecd\" stroke=\"transparent\" points=\"44.5,-9 44.5,-23 59.5,-23 59.5,-9 44.5,-9\"/>\n",
       "<text text-anchor=\"start\" x=\"45.5\" y=\"-13.2\" font-family=\"Helvetica,sans-Serif\" font-size=\"11.00\" fill=\"#444443\"> &#160;&#160;&#160;</text>\n",
       "</g>\n",
       "<!-- node140238860505216 -->\n",
       "<g id=\"node2\" class=\"node\">\n",
       "<title>node140238860505216</title>\n",
       "<polygon fill=\"none\" stroke=\"black\" stroke-width=\"0.5\" points=\"141,-32 83,-32 83,0 141,0 141,-32\"/>\n",
       "<polygon fill=\"#fefecd\" stroke=\"transparent\" points=\"84,-19 84,-31 97,-31 97,-19 84,-19\"/>\n",
       "<polyline fill=\"none\" stroke=\"black\" points=\"84,-19 97,-19 97,-31 \"/>\n",
       "<text text-anchor=\"start\" x=\"87.5\" y=\"-22.8\" font-family=\"Helvetica,sans-Serif\" font-size=\"9.00\" fill=\"#444443\">0</text>\n",
       "<polygon fill=\"#fefecd\" stroke=\"transparent\" points=\"97,-19 97,-31 110,-31 110,-19 97,-19\"/>\n",
       "<polyline fill=\"none\" stroke=\"black\" points=\"97,-19 110,-19 110,-31 \"/>\n",
       "<text text-anchor=\"start\" x=\"100.5\" y=\"-22.8\" font-family=\"Helvetica,sans-Serif\" font-size=\"9.00\" fill=\"#444443\">1</text>\n",
       "<polygon fill=\"#fefecd\" stroke=\"transparent\" points=\"110,-19 110,-31 123,-31 123,-19 110,-19\"/>\n",
       "<polyline fill=\"none\" stroke=\"black\" points=\"110,-19 123,-19 123,-31 \"/>\n",
       "<text text-anchor=\"start\" x=\"113.5\" y=\"-22.8\" font-family=\"Helvetica,sans-Serif\" font-size=\"9.00\" fill=\"#444443\">2</text>\n",
       "<polygon fill=\"#fefecd\" stroke=\"transparent\" points=\"123,-19 123,-31 140,-31 140,-19 123,-19\"/>\n",
       "<polyline fill=\"none\" stroke=\"black\" points=\"123,-19 140,-19 \"/>\n",
       "<text text-anchor=\"start\" x=\"128.5\" y=\"-22.8\" font-family=\"Helvetica,sans-Serif\" font-size=\"9.00\" fill=\"#444443\">3</text>\n",
       "<polygon fill=\"#fefecd\" stroke=\"transparent\" points=\"84,-1 84,-19 97,-19 97,-1 84,-1\"/>\n",
       "<polyline fill=\"none\" stroke=\"black\" points=\"97,-1 97,-19 \"/>\n",
       "<text text-anchor=\"start\" x=\"87\" y=\"-7.2\" font-family=\"Helvetica,sans-Serif\" font-size=\"11.00\" fill=\"#444443\">4</text>\n",
       "<polygon fill=\"#fefecd\" stroke=\"transparent\" points=\"97,-1 97,-19 110,-19 110,-1 97,-1\"/>\n",
       "<polyline fill=\"none\" stroke=\"black\" points=\"110,-1 110,-19 \"/>\n",
       "<text text-anchor=\"start\" x=\"100\" y=\"-7.2\" font-family=\"Helvetica,sans-Serif\" font-size=\"11.00\" fill=\"#444443\">8</text>\n",
       "<polygon fill=\"#fefecd\" stroke=\"transparent\" points=\"110,-1 110,-19 123,-19 123,-1 110,-1\"/>\n",
       "<polyline fill=\"none\" stroke=\"black\" points=\"123,-1 123,-19 \"/>\n",
       "<text text-anchor=\"start\" x=\"113\" y=\"-7.2\" font-family=\"Helvetica,sans-Serif\" font-size=\"11.00\" fill=\"#444443\">2</text>\n",
       "<polygon fill=\"#fefecd\" stroke=\"transparent\" points=\"123,-1 123,-19 140,-19 140,-1 123,-1\"/>\n",
       "<text text-anchor=\"start\" x=\"125\" y=\"-7.2\" font-family=\"Helvetica,sans-Serif\" font-size=\"11.00\" fill=\"#444443\">19</text>\n",
       "</g>\n",
       "<!-- node140238854047808&#45;&gt;node140238860505216 -->\n",
       "<g id=\"edge1\" class=\"edge\">\n",
       "<title>node140238854047808:c&#45;&gt;node140238860505216</title>\n",
       "<path fill=\"none\" stroke=\"#444443\" stroke-width=\"0.5\" d=\"M57.03,-16C61.54,-16 69.84,-16 78.6,-16\"/>\n",
       "<ellipse fill=\"#444443\" stroke=\"#444443\" stroke-width=\"0.5\" cx=\"55.1\" cy=\"-16\" rx=\"1.6\" ry=\"1.6\"/>\n",
       "<polygon fill=\"#444443\" stroke=\"#444443\" stroke-width=\"0.5\" points=\"78.92,-17.4 82.92,-16 78.92,-14.6 78.92,-17.4\"/>\n",
       "</g>\n",
       "</g>\n",
       "</svg>\n"
      ],
      "text/plain": [
       "<graphviz.files.Source at 0x7f8be71509a0>"
      ]
     },
     "execution_count": 44,
     "metadata": {},
     "output_type": "execute_result"
    }
   ],
   "source": [
    "d = {\"tom\":3, \"mary\":9, \"parrt\":[4,8,2,19]}\n",
    "objviz(d) #define a dictionary"
   ]
  },
  {
   "cell_type": "code",
   "execution_count": 45,
   "metadata": {},
   "outputs": [
    {
     "data": {
      "text/plain": [
       "3"
      ]
     },
     "execution_count": 45,
     "metadata": {},
     "output_type": "execute_result"
    }
   ],
   "source": [
    "d[\"tom\"]"
   ]
  },
  {
   "cell_type": "code",
   "execution_count": 46,
   "metadata": {},
   "outputs": [
    {
     "data": {
      "text/plain": [
       "[4, 8, 2, 19]"
      ]
     },
     "execution_count": 46,
     "metadata": {},
     "output_type": "execute_result"
    }
   ],
   "source": [
    "d[\"parrt\"]"
   ]
  },
  {
   "cell_type": "code",
   "execution_count": 47,
   "metadata": {},
   "outputs": [
    {
     "data": {
      "text/plain": [
       "19"
      ]
     },
     "execution_count": 47,
     "metadata": {},
     "output_type": "execute_result"
    }
   ],
   "source": [
    "d[\"parrt\"][3]"
   ]
  },
  {
   "cell_type": "code",
   "execution_count": 48,
   "metadata": {},
   "outputs": [
    {
     "data": {
      "text/plain": [
       "12.566370614359172"
      ]
     },
     "execution_count": 48,
     "metadata": {},
     "output_type": "execute_result"
    }
   ],
   "source": [
    "import math\n",
    "r = 2\n",
    "math.pi * r ** 2"
   ]
  },
  {
   "cell_type": "code",
   "execution_count": 49,
   "metadata": {},
   "outputs": [
    {
     "data": {
      "text/plain": [
       "array([[0.26868419, 0.27825669, 0.02630409],\n",
       "       [0.82184445, 0.77745523, 0.32659065]])"
      ]
     },
     "execution_count": 49,
     "metadata": {},
     "output_type": "execute_result"
    }
   ],
   "source": [
    "np.random.rand(2,3)"
   ]
  },
  {
   "cell_type": "code",
   "execution_count": 50,
   "metadata": {},
   "outputs": [
    {
     "name": "stdout",
     "output_type": "stream",
     "text": [
      "This is part of main not part of function\n"
     ]
    }
   ],
   "source": [
    "def hi(): \n",
    "    print(\"hi\")\n",
    "print(\"This is part of main not part of function\")"
   ]
  },
  {
   "cell_type": "code",
   "execution_count": 51,
   "metadata": {},
   "outputs": [
    {
     "name": "stdout",
     "output_type": "stream",
     "text": [
      "hi\n"
     ]
    }
   ],
   "source": [
    "hi()"
   ]
  },
  {
   "cell_type": "code",
   "execution_count": 52,
   "metadata": {},
   "outputs": [],
   "source": [
    "def pi(): \n",
    "    return 3.14159"
   ]
  },
  {
   "cell_type": "code",
   "execution_count": 53,
   "metadata": {},
   "outputs": [
    {
     "data": {
      "text/plain": [
       "3.14159"
      ]
     },
     "execution_count": 53,
     "metadata": {},
     "output_type": "execute_result"
    }
   ],
   "source": [
    "pi()"
   ]
  },
  {
   "cell_type": "code",
   "execution_count": 54,
   "metadata": {},
   "outputs": [
    {
     "data": {
      "text/plain": [
       "<function __main__.pi()>"
      ]
     },
     "execution_count": 54,
     "metadata": {},
     "output_type": "execute_result"
    }
   ],
   "source": [
    "pi"
   ]
  },
  {
   "cell_type": "code",
   "execution_count": 55,
   "metadata": {},
   "outputs": [
    {
     "data": {
      "text/plain": [
       "('PARRT', 4)"
      ]
     },
     "execution_count": 55,
     "metadata": {},
     "output_type": "execute_result"
    }
   ],
   "source": [
    "\"parrt\".upper(), \"parrt\".index(\"t\")"
   ]
  },
  {
   "cell_type": "code",
   "execution_count": 56,
   "metadata": {},
   "outputs": [
    {
     "data": {
      "text/plain": [
       "5"
      ]
     },
     "execution_count": 56,
     "metadata": {},
     "output_type": "execute_result"
    }
   ],
   "source": [
    "len(\"parrt\")"
   ]
  },
  {
   "cell_type": "code",
   "execution_count": 57,
   "metadata": {},
   "outputs": [
    {
     "data": {
      "text/html": [
       "<div>\n",
       "<style scoped>\n",
       "    .dataframe tbody tr th:only-of-type {\n",
       "        vertical-align: middle;\n",
       "    }\n",
       "\n",
       "    .dataframe tbody tr th {\n",
       "        vertical-align: top;\n",
       "    }\n",
       "\n",
       "    .dataframe thead th {\n",
       "        text-align: right;\n",
       "    }\n",
       "</style>\n",
       "<table border=\"1\" class=\"dataframe\">\n",
       "  <thead>\n",
       "    <tr style=\"text-align: right;\">\n",
       "      <th></th>\n",
       "      <th>MPG</th>\n",
       "      <th>CYL</th>\n",
       "      <th>ENG</th>\n",
       "      <th>WGT</th>\n",
       "    </tr>\n",
       "  </thead>\n",
       "  <tbody>\n",
       "    <tr>\n",
       "      <th>0</th>\n",
       "      <td>18.0</td>\n",
       "      <td>8</td>\n",
       "      <td>307.0</td>\n",
       "      <td>3504</td>\n",
       "    </tr>\n",
       "    <tr>\n",
       "      <th>1</th>\n",
       "      <td>15.0</td>\n",
       "      <td>8</td>\n",
       "      <td>350.0</td>\n",
       "      <td>3693</td>\n",
       "    </tr>\n",
       "    <tr>\n",
       "      <th>2</th>\n",
       "      <td>18.0</td>\n",
       "      <td>8</td>\n",
       "      <td>318.0</td>\n",
       "      <td>3436</td>\n",
       "    </tr>\n",
       "  </tbody>\n",
       "</table>\n",
       "</div>"
      ],
      "text/plain": [
       "    MPG  CYL    ENG   WGT\n",
       "0  18.0    8  307.0  3504\n",
       "1  15.0    8  350.0  3693\n",
       "2  18.0    8  318.0  3436"
      ]
     },
     "execution_count": 57,
     "metadata": {},
     "output_type": "execute_result"
    }
   ],
   "source": [
    "import pandas as pd\n",
    "df_cars = pd.read_csv(\"data/cars.csv\")\n",
    "df_cars.head(3)"
   ]
  },
  {
   "cell_type": "code",
   "execution_count": 58,
   "metadata": {},
   "outputs": [
    {
     "data": {
      "text/plain": [
       "array([8, 4, 6, 3, 5])"
      ]
     },
     "execution_count": 58,
     "metadata": {},
     "output_type": "execute_result"
    }
   ],
   "source": [
    "df_cars['CYL'].unique() #get all unique values of CYL"
   ]
  },
  {
   "cell_type": "code",
   "execution_count": 59,
   "metadata": {},
   "outputs": [
    {
     "data": {
      "text/plain": [
       "13.0    20\n",
       "14.0    19\n",
       "18.0    17\n",
       "15.0    16\n",
       "26.0    14\n",
       "Name: MPG, dtype: int64"
      ]
     },
     "execution_count": 59,
     "metadata": {},
     "output_type": "execute_result"
    }
   ],
   "source": [
    "df_cars['MPG'].value_counts().head(5)"
   ]
  },
  {
   "cell_type": "code",
   "execution_count": 60,
   "metadata": {},
   "outputs": [
    {
     "data": {
      "text/plain": [
       "0    0.005137\n",
       "1    0.004062\n",
       "2    0.005239\n",
       "3    0.004661\n",
       "4    0.004929\n",
       "dtype: float64"
      ]
     },
     "execution_count": 60,
     "metadata": {},
     "output_type": "execute_result"
    }
   ],
   "source": [
    "(df_cars['MPG'] / df_cars[\"WGT\"]).head(5)"
   ]
  },
  {
   "cell_type": "code",
   "execution_count": 61,
   "metadata": {},
   "outputs": [],
   "source": [
    "def triple(a): \n",
    "    print(\"type is\", type(a))\n",
    "    return 3 * a"
   ]
  },
  {
   "cell_type": "code",
   "execution_count": 62,
   "metadata": {},
   "outputs": [
    {
     "name": "stdout",
     "output_type": "stream",
     "text": [
      "type is <class 'int'>\n"
     ]
    },
    {
     "data": {
      "text/plain": [
       "9"
      ]
     },
     "execution_count": 62,
     "metadata": {},
     "output_type": "execute_result"
    }
   ],
   "source": [
    "triple(3)"
   ]
  },
  {
   "cell_type": "code",
   "execution_count": 63,
   "metadata": {},
   "outputs": [
    {
     "name": "stdout",
     "output_type": "stream",
     "text": [
      "type is <class 'float'>\n"
     ]
    },
    {
     "data": {
      "text/plain": [
       "13.5"
      ]
     },
     "execution_count": 63,
     "metadata": {},
     "output_type": "execute_result"
    }
   ],
   "source": [
    "triple(4.5)"
   ]
  },
  {
   "cell_type": "code",
   "execution_count": 64,
   "metadata": {},
   "outputs": [
    {
     "name": "stdout",
     "output_type": "stream",
     "text": [
      "type is <class 'list'>\n"
     ]
    },
    {
     "data": {
      "text/plain": [
       "[1, 2, 3, 1, 2, 3, 1, 2, 3]"
      ]
     },
     "execution_count": 64,
     "metadata": {},
     "output_type": "execute_result"
    }
   ],
   "source": [
    "triple([1,2,3])"
   ]
  },
  {
   "cell_type": "code",
   "execution_count": 65,
   "metadata": {},
   "outputs": [
    {
     "name": "stdout",
     "output_type": "stream",
     "text": [
      "type is <class 'numpy.ndarray'>\n"
     ]
    },
    {
     "data": {
      "text/plain": [
       "array([3, 6, 9])"
      ]
     },
     "execution_count": 65,
     "metadata": {},
     "output_type": "execute_result"
    }
   ],
   "source": [
    "triple(np.array([1, 2, 3]))"
   ]
  },
  {
   "cell_type": "code",
   "execution_count": 66,
   "metadata": {},
   "outputs": [],
   "source": [
    "def stuff(): \n",
    "    return [[9,7,5], [10,15,20]]"
   ]
  },
  {
   "cell_type": "code",
   "execution_count": 67,
   "metadata": {},
   "outputs": [
    {
     "data": {
      "text/plain": [
       "15"
      ]
     },
     "execution_count": 67,
     "metadata": {},
     "output_type": "execute_result"
    }
   ],
   "source": [
    "x = stuff()\n",
    "x[1][1]"
   ]
  },
  {
   "cell_type": "code",
   "execution_count": 68,
   "metadata": {},
   "outputs": [
    {
     "ename": "TypeError",
     "evalue": "list indices must be integers or slices, not tuple",
     "output_type": "error",
     "traceback": [
      "\u001b[0;31m---------------------------------------------------------------------------\u001b[0m",
      "\u001b[0;31mTypeError\u001b[0m                                 Traceback (most recent call last)",
      "\u001b[0;32m<ipython-input-68-02eb37e19992>\u001b[0m in \u001b[0;36m<module>\u001b[0;34m\u001b[0m\n\u001b[0;32m----> 1\u001b[0;31m \u001b[0mx\u001b[0m\u001b[0;34m[\u001b[0m\u001b[0;36m1\u001b[0m\u001b[0;34m,\u001b[0m\u001b[0;36m1\u001b[0m\u001b[0;34m]\u001b[0m\u001b[0;34m\u001b[0m\u001b[0;34m\u001b[0m\u001b[0m\n\u001b[0m",
      "\u001b[0;31mTypeError\u001b[0m: list indices must be integers or slices, not tuple"
     ]
    }
   ],
   "source": [
    "x[1,1]"
   ]
  },
  {
   "cell_type": "code",
   "execution_count": 69,
   "metadata": {},
   "outputs": [],
   "source": [
    "def npstuff(): \n",
    "    return np.array([[9,7,5], [10,15,20]])"
   ]
  },
  {
   "cell_type": "code",
   "execution_count": 70,
   "metadata": {},
   "outputs": [
    {
     "data": {
      "text/plain": [
       "(15, 15)"
      ]
     },
     "execution_count": 70,
     "metadata": {},
     "output_type": "execute_result"
    }
   ],
   "source": [
    "y = npstuff()\n",
    "y[1][1], y[1,1] #both notations WORK!!!!"
   ]
  },
  {
   "cell_type": "code",
   "execution_count": 71,
   "metadata": {},
   "outputs": [],
   "source": [
    "def pi(): \n",
    "    print(3.14159)\n",
    "    #return value is NONE"
   ]
  },
  {
   "cell_type": "code",
   "execution_count": 72,
   "metadata": {},
   "outputs": [
    {
     "name": "stdout",
     "output_type": "stream",
     "text": [
      "3.14159\n",
      "None\n"
     ]
    }
   ],
   "source": [
    "print(pi())"
   ]
  },
  {
   "cell_type": "code",
   "execution_count": 73,
   "metadata": {},
   "outputs": [],
   "source": [
    "def negate(x): \n",
    "    for i in range(len(x)): \n",
    "        x[i] = -x[i]"
   ]
  },
  {
   "cell_type": "code",
   "execution_count": 74,
   "metadata": {},
   "outputs": [
    {
     "data": {
      "image/svg+xml": [
       "<?xml version=\"1.0\" encoding=\"UTF-8\" standalone=\"no\"?>\n",
       "<!DOCTYPE svg PUBLIC \"-//W3C//DTD SVG 1.1//EN\"\n",
       " \"http://www.w3.org/Graphics/SVG/1.1/DTD/svg11.dtd\">\n",
       "<!-- Generated by graphviz version 2.44.1 (20200629.0846)\n",
       " -->\n",
       "<!-- Title: G Pages: 1 -->\n",
       "<svg width=\"106pt\" height=\"49pt\"\n",
       " viewBox=\"0.00 0.00 106.00 49.00\" xmlns=\"http://www.w3.org/2000/svg\" xmlns:xlink=\"http://www.w3.org/1999/xlink\">\n",
       "<g id=\"graph0\" class=\"graph\" transform=\"scale(1 1) rotate(0) translate(4 45)\">\n",
       "<title>G</title>\n",
       "<polygon fill=\"white\" stroke=\"transparent\" points=\"-4,4 -4,-45 102,-45 102,4 -4,4\"/>\n",
       "<!-- node140238883919552 -->\n",
       "<g id=\"node1\" class=\"node\">\n",
       "<title>node140238883919552</title>\n",
       "<polygon fill=\"#d9e6f5\" stroke=\"#444443\" stroke-width=\"0.5\" points=\"38,-41 0,-41 0,-7 38,-7 38,-41\"/>\n",
       "<polygon fill=\"#d9e6f5\" stroke=\"transparent\" points=\"2,-25 2,-39 36,-39 36,-25 2,-25\"/>\n",
       "<polyline fill=\"none\" stroke=\"#444443\" points=\"2,-25 36,-25 \"/>\n",
       "<text text-anchor=\"start\" x=\"3\" y=\"-29.2\" font-family=\"Times,serif\" font-style=\"italic\" font-size=\"11.00\" fill=\"#444443\">globals</text>\n",
       "<polygon fill=\"#d9e6f5\" stroke=\"transparent\" points=\"2,-23 2,-25 36,-25 36,-23 2,-23\"/>\n",
       "<polygon fill=\"#d9e6f5\" stroke=\"transparent\" points=\"2,-9 2,-23 17,-23 17,-9 2,-9\"/>\n",
       "<polyline fill=\"none\" stroke=\"#444443\" points=\"17,-9 17,-23 \"/>\n",
       "<text text-anchor=\"start\" x=\"6\" y=\"-13.2\" font-family=\"Helvetica,sans-Serif\" font-size=\"11.00\" fill=\"#444443\">a </text>\n",
       "<polygon fill=\"#d9e6f5\" stroke=\"transparent\" points=\"19,-9 19,-23 36,-23 36,-9 19,-9\"/>\n",
       "<text text-anchor=\"start\" x=\"20\" y=\"-13.2\" font-family=\"Helvetica,sans-Serif\" font-size=\"11.00\" fill=\"#444443\"> &#160;&#160;&#160;</text>\n",
       "</g>\n",
       "<!-- node140238856819392 -->\n",
       "<g id=\"node2\" class=\"node\">\n",
       "<title>node140238856819392</title>\n",
       "<polygon fill=\"none\" stroke=\"black\" stroke-width=\"0.5\" points=\"98,-32 46,-32 46,0 98,0 98,-32\"/>\n",
       "<polygon fill=\"#fefecd\" stroke=\"transparent\" points=\"47,-19 47,-31 60,-31 60,-19 47,-19\"/>\n",
       "<polyline fill=\"none\" stroke=\"black\" points=\"47,-19 60,-19 60,-31 \"/>\n",
       "<text text-anchor=\"start\" x=\"50.5\" y=\"-22.8\" font-family=\"Helvetica,sans-Serif\" font-size=\"9.00\" fill=\"#444443\">0</text>\n",
       "<polygon fill=\"#fefecd\" stroke=\"transparent\" points=\"60,-19 60,-31 73,-31 73,-19 60,-19\"/>\n",
       "<polyline fill=\"none\" stroke=\"black\" points=\"60,-19 73,-19 73,-31 \"/>\n",
       "<text text-anchor=\"start\" x=\"63.5\" y=\"-22.8\" font-family=\"Helvetica,sans-Serif\" font-size=\"9.00\" fill=\"#444443\">1</text>\n",
       "<polygon fill=\"#fefecd\" stroke=\"transparent\" points=\"73,-19 73,-31 86,-31 86,-19 73,-19\"/>\n",
       "<polyline fill=\"none\" stroke=\"black\" points=\"73,-19 86,-19 86,-31 \"/>\n",
       "<text text-anchor=\"start\" x=\"76.5\" y=\"-22.8\" font-family=\"Helvetica,sans-Serif\" font-size=\"9.00\" fill=\"#444443\">2</text>\n",
       "<polygon fill=\"#fefecd\" stroke=\"transparent\" points=\"86,-19 86,-31 97,-31 97,-19 86,-19\"/>\n",
       "<polyline fill=\"none\" stroke=\"black\" points=\"86,-19 97,-19 \"/>\n",
       "<text text-anchor=\"start\" x=\"88.5\" y=\"-22.8\" font-family=\"Helvetica,sans-Serif\" font-size=\"9.00\" fill=\"#444443\">3</text>\n",
       "<polygon fill=\"#fefecd\" stroke=\"transparent\" points=\"47,-1 47,-19 60,-19 60,-1 47,-1\"/>\n",
       "<polyline fill=\"none\" stroke=\"black\" points=\"60,-1 60,-19 \"/>\n",
       "<text text-anchor=\"start\" x=\"50\" y=\"-7.2\" font-family=\"Helvetica,sans-Serif\" font-size=\"11.00\" fill=\"#444443\">1</text>\n",
       "<polygon fill=\"#fefecd\" stroke=\"transparent\" points=\"60,-1 60,-19 73,-19 73,-1 60,-1\"/>\n",
       "<polyline fill=\"none\" stroke=\"black\" points=\"73,-1 73,-19 \"/>\n",
       "<text text-anchor=\"start\" x=\"63\" y=\"-7.2\" font-family=\"Helvetica,sans-Serif\" font-size=\"11.00\" fill=\"#444443\">3</text>\n",
       "<polygon fill=\"#fefecd\" stroke=\"transparent\" points=\"73,-1 73,-19 86,-19 86,-1 73,-1\"/>\n",
       "<polyline fill=\"none\" stroke=\"black\" points=\"86,-1 86,-19 \"/>\n",
       "<text text-anchor=\"start\" x=\"76\" y=\"-7.2\" font-family=\"Helvetica,sans-Serif\" font-size=\"11.00\" fill=\"#444443\">5</text>\n",
       "<polygon fill=\"#fefecd\" stroke=\"transparent\" points=\"86,-1 86,-19 97,-19 97,-1 86,-1\"/>\n",
       "<text text-anchor=\"start\" x=\"88\" y=\"-7.2\" font-family=\"Helvetica,sans-Serif\" font-size=\"11.00\" fill=\"#444443\">7</text>\n",
       "</g>\n",
       "<!-- node140238883919552&#45;&gt;node140238856819392 -->\n",
       "<g id=\"edge1\" class=\"edge\">\n",
       "<title>node140238883919552:c&#45;&gt;node140238856819392</title>\n",
       "<path fill=\"none\" stroke=\"#444443\" stroke-width=\"0.5\" d=\"M32.39,-16C34.61,-16 37.75,-16 41.29,-16\"/>\n",
       "<ellipse fill=\"#444443\" stroke=\"#444443\" stroke-width=\"0.5\" cx=\"30.6\" cy=\"-16\" rx=\"1.6\" ry=\"1.6\"/>\n",
       "<polygon fill=\"#444443\" stroke=\"#444443\" stroke-width=\"0.5\" points=\"41.6,-17.4 45.6,-16 41.6,-14.6 41.6,-17.4\"/>\n",
       "</g>\n",
       "</g>\n",
       "</svg>\n"
      ],
      "text/plain": [
       "<graphviz.files.Source at 0x7f8be75e1460>"
      ]
     },
     "execution_count": 74,
     "metadata": {},
     "output_type": "execute_result"
    }
   ],
   "source": [
    "a = [1,3,5,7]\n",
    "callviz(varnames = ['a']) #visualize the global variable space"
   ]
  },
  {
   "cell_type": "code",
   "execution_count": 75,
   "metadata": {},
   "outputs": [],
   "source": [
    "negate(a)"
   ]
  },
  {
   "cell_type": "code",
   "execution_count": 76,
   "metadata": {},
   "outputs": [
    {
     "data": {
      "text/plain": [
       "[-1, -3, -5, -7]"
      ]
     },
     "execution_count": 76,
     "metadata": {},
     "output_type": "execute_result"
    }
   ],
   "source": [
    "a"
   ]
  },
  {
   "cell_type": "code",
   "execution_count": 77,
   "metadata": {},
   "outputs": [
    {
     "data": {
      "image/svg+xml": [
       "<?xml version=\"1.0\" encoding=\"UTF-8\" standalone=\"no\"?>\n",
       "<!DOCTYPE svg PUBLIC \"-//W3C//DTD SVG 1.1//EN\"\n",
       " \"http://www.w3.org/Graphics/SVG/1.1/DTD/svg11.dtd\">\n",
       "<!-- Generated by graphviz version 2.44.1 (20200629.0846)\n",
       " -->\n",
       "<!-- Title: G Pages: 1 -->\n",
       "<svg width=\"118pt\" height=\"49pt\"\n",
       " viewBox=\"0.00 0.00 118.00 49.00\" xmlns=\"http://www.w3.org/2000/svg\" xmlns:xlink=\"http://www.w3.org/1999/xlink\">\n",
       "<g id=\"graph0\" class=\"graph\" transform=\"scale(1 1) rotate(0) translate(4 45)\">\n",
       "<title>G</title>\n",
       "<polygon fill=\"white\" stroke=\"transparent\" points=\"-4,4 -4,-45 114,-45 114,4 -4,4\"/>\n",
       "<!-- node140238883920800 -->\n",
       "<g id=\"node1\" class=\"node\">\n",
       "<title>node140238883920800</title>\n",
       "<polygon fill=\"#d9e6f5\" stroke=\"#444443\" stroke-width=\"0.5\" points=\"38,-41 0,-41 0,-7 38,-7 38,-41\"/>\n",
       "<polygon fill=\"#d9e6f5\" stroke=\"transparent\" points=\"2,-25 2,-39 36,-39 36,-25 2,-25\"/>\n",
       "<polyline fill=\"none\" stroke=\"#444443\" points=\"2,-25 36,-25 \"/>\n",
       "<text text-anchor=\"start\" x=\"3\" y=\"-29.2\" font-family=\"Times,serif\" font-style=\"italic\" font-size=\"11.00\" fill=\"#444443\">globals</text>\n",
       "<polygon fill=\"#d9e6f5\" stroke=\"transparent\" points=\"2,-23 2,-25 36,-25 36,-23 2,-23\"/>\n",
       "<polygon fill=\"#d9e6f5\" stroke=\"transparent\" points=\"2,-9 2,-23 17,-23 17,-9 2,-9\"/>\n",
       "<polyline fill=\"none\" stroke=\"#444443\" points=\"17,-9 17,-23 \"/>\n",
       "<text text-anchor=\"start\" x=\"6\" y=\"-13.2\" font-family=\"Helvetica,sans-Serif\" font-size=\"11.00\" fill=\"#444443\">a </text>\n",
       "<polygon fill=\"#d9e6f5\" stroke=\"transparent\" points=\"19,-9 19,-23 36,-23 36,-9 19,-9\"/>\n",
       "<text text-anchor=\"start\" x=\"20\" y=\"-13.2\" font-family=\"Helvetica,sans-Serif\" font-size=\"11.00\" fill=\"#444443\"> &#160;&#160;&#160;</text>\n",
       "</g>\n",
       "<!-- node140238856819392 -->\n",
       "<g id=\"node2\" class=\"node\">\n",
       "<title>node140238856819392</title>\n",
       "<polygon fill=\"none\" stroke=\"black\" stroke-width=\"0.5\" points=\"110,-32 46,-32 46,0 110,0 110,-32\"/>\n",
       "<polygon fill=\"#fefecd\" stroke=\"transparent\" points=\"47,-19 47,-31 63,-31 63,-19 47,-19\"/>\n",
       "<polyline fill=\"none\" stroke=\"black\" points=\"47,-19 63,-19 63,-31 \"/>\n",
       "<text text-anchor=\"start\" x=\"52\" y=\"-22.8\" font-family=\"Helvetica,sans-Serif\" font-size=\"9.00\" fill=\"#444443\">0</text>\n",
       "<polygon fill=\"#fefecd\" stroke=\"transparent\" points=\"63,-19 63,-31 79,-31 79,-19 63,-19\"/>\n",
       "<polyline fill=\"none\" stroke=\"black\" points=\"63,-19 79,-19 79,-31 \"/>\n",
       "<text text-anchor=\"start\" x=\"68\" y=\"-22.8\" font-family=\"Helvetica,sans-Serif\" font-size=\"9.00\" fill=\"#444443\">1</text>\n",
       "<polygon fill=\"#fefecd\" stroke=\"transparent\" points=\"79,-19 79,-31 95,-31 95,-19 79,-19\"/>\n",
       "<polyline fill=\"none\" stroke=\"black\" points=\"79,-19 95,-19 95,-31 \"/>\n",
       "<text text-anchor=\"start\" x=\"84\" y=\"-22.8\" font-family=\"Helvetica,sans-Serif\" font-size=\"9.00\" fill=\"#444443\">2</text>\n",
       "<polygon fill=\"#fefecd\" stroke=\"transparent\" points=\"95,-19 95,-31 109,-31 109,-19 95,-19\"/>\n",
       "<polyline fill=\"none\" stroke=\"black\" points=\"95,-19 109,-19 \"/>\n",
       "<text text-anchor=\"start\" x=\"99\" y=\"-22.8\" font-family=\"Helvetica,sans-Serif\" font-size=\"9.00\" fill=\"#444443\">3</text>\n",
       "<polygon fill=\"#fefecd\" stroke=\"transparent\" points=\"47,-1 47,-19 63,-19 63,-1 47,-1\"/>\n",
       "<polyline fill=\"none\" stroke=\"black\" points=\"63,-1 63,-19 \"/>\n",
       "<text text-anchor=\"start\" x=\"50\" y=\"-7.2\" font-family=\"Helvetica,sans-Serif\" font-size=\"11.00\" fill=\"#444443\">&#45;1</text>\n",
       "<polygon fill=\"#fefecd\" stroke=\"transparent\" points=\"63,-1 63,-19 79,-19 79,-1 63,-1\"/>\n",
       "<polyline fill=\"none\" stroke=\"black\" points=\"79,-1 79,-19 \"/>\n",
       "<text text-anchor=\"start\" x=\"66\" y=\"-7.2\" font-family=\"Helvetica,sans-Serif\" font-size=\"11.00\" fill=\"#444443\">&#45;3</text>\n",
       "<polygon fill=\"#fefecd\" stroke=\"transparent\" points=\"79,-1 79,-19 95,-19 95,-1 79,-1\"/>\n",
       "<polyline fill=\"none\" stroke=\"black\" points=\"95,-1 95,-19 \"/>\n",
       "<text text-anchor=\"start\" x=\"82\" y=\"-7.2\" font-family=\"Helvetica,sans-Serif\" font-size=\"11.00\" fill=\"#444443\">&#45;5</text>\n",
       "<polygon fill=\"#fefecd\" stroke=\"transparent\" points=\"95,-1 95,-19 109,-19 109,-1 95,-1\"/>\n",
       "<text text-anchor=\"start\" x=\"97\" y=\"-7.2\" font-family=\"Helvetica,sans-Serif\" font-size=\"11.00\" fill=\"#444443\">&#45;7</text>\n",
       "</g>\n",
       "<!-- node140238883920800&#45;&gt;node140238856819392 -->\n",
       "<g id=\"edge1\" class=\"edge\">\n",
       "<title>node140238883920800:c&#45;&gt;node140238856819392</title>\n",
       "<path fill=\"none\" stroke=\"#444443\" stroke-width=\"0.5\" d=\"M32.37,-16C34.58,-16 37.73,-16 41.35,-16\"/>\n",
       "<ellipse fill=\"#444443\" stroke=\"#444443\" stroke-width=\"0.5\" cx=\"30.6\" cy=\"-16\" rx=\"1.6\" ry=\"1.6\"/>\n",
       "<polygon fill=\"#444443\" stroke=\"#444443\" stroke-width=\"0.5\" points=\"41.79,-17.4 45.79,-16 41.79,-14.6 41.79,-17.4\"/>\n",
       "</g>\n",
       "</g>\n",
       "</svg>\n"
      ],
      "text/plain": [
       "<graphviz.files.Source at 0x7f8be8ddfca0>"
      ]
     },
     "execution_count": 77,
     "metadata": {},
     "output_type": "execute_result"
    }
   ],
   "source": [
    "callviz(varnames = ['a'])"
   ]
  },
  {
   "cell_type": "code",
   "execution_count": 78,
   "metadata": {},
   "outputs": [],
   "source": [
    "def negate(x): \n",
    "    x = x.copy()\n",
    "    for i in range(len(x)): \n",
    "        x[i] = -x[i]\n",
    "    return x"
   ]
  },
  {
   "cell_type": "code",
   "execution_count": 79,
   "metadata": {},
   "outputs": [
    {
     "data": {
      "image/svg+xml": [
       "<?xml version=\"1.0\" encoding=\"UTF-8\" standalone=\"no\"?>\n",
       "<!DOCTYPE svg PUBLIC \"-//W3C//DTD SVG 1.1//EN\"\n",
       " \"http://www.w3.org/Graphics/SVG/1.1/DTD/svg11.dtd\">\n",
       "<!-- Generated by graphviz version 2.44.1 (20200629.0846)\n",
       " -->\n",
       "<!-- Title: G Pages: 1 -->\n",
       "<svg width=\"106pt\" height=\"49pt\"\n",
       " viewBox=\"0.00 0.00 106.00 49.00\" xmlns=\"http://www.w3.org/2000/svg\" xmlns:xlink=\"http://www.w3.org/1999/xlink\">\n",
       "<g id=\"graph0\" class=\"graph\" transform=\"scale(1 1) rotate(0) translate(4 45)\">\n",
       "<title>G</title>\n",
       "<polygon fill=\"white\" stroke=\"transparent\" points=\"-4,4 -4,-45 102,-45 102,4 -4,4\"/>\n",
       "<!-- node140238855900128 -->\n",
       "<g id=\"node1\" class=\"node\">\n",
       "<title>node140238855900128</title>\n",
       "<polygon fill=\"#d9e6f5\" stroke=\"#444443\" stroke-width=\"0.5\" points=\"38,-41 0,-41 0,-7 38,-7 38,-41\"/>\n",
       "<polygon fill=\"#d9e6f5\" stroke=\"transparent\" points=\"2,-25 2,-39 36,-39 36,-25 2,-25\"/>\n",
       "<polyline fill=\"none\" stroke=\"#444443\" points=\"2,-25 36,-25 \"/>\n",
       "<text text-anchor=\"start\" x=\"3\" y=\"-29.2\" font-family=\"Times,serif\" font-style=\"italic\" font-size=\"11.00\" fill=\"#444443\">globals</text>\n",
       "<polygon fill=\"#d9e6f5\" stroke=\"transparent\" points=\"2,-23 2,-25 36,-25 36,-23 2,-23\"/>\n",
       "<polygon fill=\"#d9e6f5\" stroke=\"transparent\" points=\"2,-9 2,-23 17,-23 17,-9 2,-9\"/>\n",
       "<polyline fill=\"none\" stroke=\"#444443\" points=\"17,-9 17,-23 \"/>\n",
       "<text text-anchor=\"start\" x=\"6\" y=\"-13.2\" font-family=\"Helvetica,sans-Serif\" font-size=\"11.00\" fill=\"#444443\">a </text>\n",
       "<polygon fill=\"#d9e6f5\" stroke=\"transparent\" points=\"19,-9 19,-23 36,-23 36,-9 19,-9\"/>\n",
       "<text text-anchor=\"start\" x=\"20\" y=\"-13.2\" font-family=\"Helvetica,sans-Serif\" font-size=\"11.00\" fill=\"#444443\"> &#160;&#160;&#160;</text>\n",
       "</g>\n",
       "<!-- node140238854046656 -->\n",
       "<g id=\"node2\" class=\"node\">\n",
       "<title>node140238854046656</title>\n",
       "<polygon fill=\"none\" stroke=\"black\" stroke-width=\"0.5\" points=\"98,-32 46,-32 46,0 98,0 98,-32\"/>\n",
       "<polygon fill=\"#fefecd\" stroke=\"transparent\" points=\"47,-19 47,-31 60,-31 60,-19 47,-19\"/>\n",
       "<polyline fill=\"none\" stroke=\"black\" points=\"47,-19 60,-19 60,-31 \"/>\n",
       "<text text-anchor=\"start\" x=\"50.5\" y=\"-22.8\" font-family=\"Helvetica,sans-Serif\" font-size=\"9.00\" fill=\"#444443\">0</text>\n",
       "<polygon fill=\"#fefecd\" stroke=\"transparent\" points=\"60,-19 60,-31 73,-31 73,-19 60,-19\"/>\n",
       "<polyline fill=\"none\" stroke=\"black\" points=\"60,-19 73,-19 73,-31 \"/>\n",
       "<text text-anchor=\"start\" x=\"63.5\" y=\"-22.8\" font-family=\"Helvetica,sans-Serif\" font-size=\"9.00\" fill=\"#444443\">1</text>\n",
       "<polygon fill=\"#fefecd\" stroke=\"transparent\" points=\"73,-19 73,-31 86,-31 86,-19 73,-19\"/>\n",
       "<polyline fill=\"none\" stroke=\"black\" points=\"73,-19 86,-19 86,-31 \"/>\n",
       "<text text-anchor=\"start\" x=\"76.5\" y=\"-22.8\" font-family=\"Helvetica,sans-Serif\" font-size=\"9.00\" fill=\"#444443\">2</text>\n",
       "<polygon fill=\"#fefecd\" stroke=\"transparent\" points=\"86,-19 86,-31 97,-31 97,-19 86,-19\"/>\n",
       "<polyline fill=\"none\" stroke=\"black\" points=\"86,-19 97,-19 \"/>\n",
       "<text text-anchor=\"start\" x=\"88.5\" y=\"-22.8\" font-family=\"Helvetica,sans-Serif\" font-size=\"9.00\" fill=\"#444443\">3</text>\n",
       "<polygon fill=\"#fefecd\" stroke=\"transparent\" points=\"47,-1 47,-19 60,-19 60,-1 47,-1\"/>\n",
       "<polyline fill=\"none\" stroke=\"black\" points=\"60,-1 60,-19 \"/>\n",
       "<text text-anchor=\"start\" x=\"50\" y=\"-7.2\" font-family=\"Helvetica,sans-Serif\" font-size=\"11.00\" fill=\"#444443\">1</text>\n",
       "<polygon fill=\"#fefecd\" stroke=\"transparent\" points=\"60,-1 60,-19 73,-19 73,-1 60,-1\"/>\n",
       "<polyline fill=\"none\" stroke=\"black\" points=\"73,-1 73,-19 \"/>\n",
       "<text text-anchor=\"start\" x=\"63\" y=\"-7.2\" font-family=\"Helvetica,sans-Serif\" font-size=\"11.00\" fill=\"#444443\">3</text>\n",
       "<polygon fill=\"#fefecd\" stroke=\"transparent\" points=\"73,-1 73,-19 86,-19 86,-1 73,-1\"/>\n",
       "<polyline fill=\"none\" stroke=\"black\" points=\"86,-1 86,-19 \"/>\n",
       "<text text-anchor=\"start\" x=\"76\" y=\"-7.2\" font-family=\"Helvetica,sans-Serif\" font-size=\"11.00\" fill=\"#444443\">5</text>\n",
       "<polygon fill=\"#fefecd\" stroke=\"transparent\" points=\"86,-1 86,-19 97,-19 97,-1 86,-1\"/>\n",
       "<text text-anchor=\"start\" x=\"88\" y=\"-7.2\" font-family=\"Helvetica,sans-Serif\" font-size=\"11.00\" fill=\"#444443\">7</text>\n",
       "</g>\n",
       "<!-- node140238855900128&#45;&gt;node140238854046656 -->\n",
       "<g id=\"edge1\" class=\"edge\">\n",
       "<title>node140238855900128:c&#45;&gt;node140238854046656</title>\n",
       "<path fill=\"none\" stroke=\"#444443\" stroke-width=\"0.5\" d=\"M32.39,-16C34.61,-16 37.75,-16 41.29,-16\"/>\n",
       "<ellipse fill=\"#444443\" stroke=\"#444443\" stroke-width=\"0.5\" cx=\"30.6\" cy=\"-16\" rx=\"1.6\" ry=\"1.6\"/>\n",
       "<polygon fill=\"#444443\" stroke=\"#444443\" stroke-width=\"0.5\" points=\"41.6,-17.4 45.6,-16 41.6,-14.6 41.6,-17.4\"/>\n",
       "</g>\n",
       "</g>\n",
       "</svg>\n"
      ],
      "text/plain": [
       "<graphviz.files.Source at 0x7f8be8d5e400>"
      ]
     },
     "execution_count": 79,
     "metadata": {},
     "output_type": "execute_result"
    }
   ],
   "source": [
    "a = [1,3,5,7]\n",
    "callviz(varnames = ['a'])"
   ]
  },
  {
   "cell_type": "code",
   "execution_count": 80,
   "metadata": {},
   "outputs": [],
   "source": [
    "a2 = negate(a)"
   ]
  },
  {
   "cell_type": "code",
   "execution_count": 81,
   "metadata": {},
   "outputs": [
    {
     "data": {
      "text/plain": [
       "[-1, -3, -5, -7]"
      ]
     },
     "execution_count": 81,
     "metadata": {},
     "output_type": "execute_result"
    }
   ],
   "source": [
    "a2"
   ]
  },
  {
   "cell_type": "code",
   "execution_count": 82,
   "metadata": {},
   "outputs": [
    {
     "data": {
      "image/svg+xml": [
       "<?xml version=\"1.0\" encoding=\"UTF-8\" standalone=\"no\"?>\n",
       "<!DOCTYPE svg PUBLIC \"-//W3C//DTD SVG 1.1//EN\"\n",
       " \"http://www.w3.org/Graphics/SVG/1.1/DTD/svg11.dtd\">\n",
       "<!-- Generated by graphviz version 2.44.1 (20200629.0846)\n",
       " -->\n",
       "<!-- Title: G Pages: 1 -->\n",
       "<svg width=\"118pt\" height=\"79pt\"\n",
       " viewBox=\"0.00 0.00 118.00 79.00\" xmlns=\"http://www.w3.org/2000/svg\" xmlns:xlink=\"http://www.w3.org/1999/xlink\">\n",
       "<g id=\"graph0\" class=\"graph\" transform=\"scale(1 1) rotate(0) translate(4 75)\">\n",
       "<title>G</title>\n",
       "<polygon fill=\"white\" stroke=\"transparent\" points=\"-4,4 -4,-75 114,-75 114,4 -4,4\"/>\n",
       "<!-- node140238884933696 -->\n",
       "<g id=\"node1\" class=\"node\">\n",
       "<title>node140238884933696</title>\n",
       "<polygon fill=\"#d9e6f5\" stroke=\"#444443\" stroke-width=\"0.5\" points=\"38,-68 0,-68 0,-18 38,-18 38,-68\"/>\n",
       "<polygon fill=\"#d9e6f5\" stroke=\"transparent\" points=\"2,-52 2,-66 36,-66 36,-52 2,-52\"/>\n",
       "<polyline fill=\"none\" stroke=\"#444443\" points=\"2,-52 36,-52 \"/>\n",
       "<text text-anchor=\"start\" x=\"3\" y=\"-56.2\" font-family=\"Times,serif\" font-style=\"italic\" font-size=\"11.00\" fill=\"#444443\">globals</text>\n",
       "<polygon fill=\"#d9e6f5\" stroke=\"transparent\" points=\"2,-50 2,-52 36,-52 36,-50 2,-50\"/>\n",
       "<polygon fill=\"#d9e6f5\" stroke=\"transparent\" points=\"2,-36 2,-50 20,-50 20,-36 2,-36\"/>\n",
       "<polyline fill=\"none\" stroke=\"#444443\" points=\"20,-36 20,-50 \"/>\n",
       "<text text-anchor=\"start\" x=\"9\" y=\"-40.2\" font-family=\"Helvetica,sans-Serif\" font-size=\"11.00\" fill=\"#444443\">a </text>\n",
       "<polygon fill=\"#d9e6f5\" stroke=\"transparent\" points=\"20,-36 20,-50 36,-50 36,-36 20,-36\"/>\n",
       "<text text-anchor=\"start\" x=\"21\" y=\"-40.2\" font-family=\"Helvetica,sans-Serif\" font-size=\"11.00\" fill=\"#444443\"> &#160;&#160;&#160;</text>\n",
       "<polygon fill=\"#d9e6f5\" stroke=\"transparent\" points=\"2,-34 2,-36 36,-36 36,-34 2,-34\"/>\n",
       "<polygon fill=\"#d9e6f5\" stroke=\"transparent\" points=\"2,-20 2,-34 20,-34 20,-20 2,-20\"/>\n",
       "<polyline fill=\"none\" stroke=\"#444443\" points=\"20,-20 20,-34 \"/>\n",
       "<text text-anchor=\"start\" x=\"3\" y=\"-24.2\" font-family=\"Helvetica,sans-Serif\" font-size=\"11.00\" fill=\"#444443\">a2 </text>\n",
       "<polygon fill=\"#d9e6f5\" stroke=\"transparent\" points=\"20,-20 20,-34 36,-34 36,-20 20,-20\"/>\n",
       "<text text-anchor=\"start\" x=\"21\" y=\"-24.2\" font-family=\"Helvetica,sans-Serif\" font-size=\"11.00\" fill=\"#444443\"> &#160;&#160;&#160;</text>\n",
       "</g>\n",
       "<!-- node140238854046656 -->\n",
       "<g id=\"node2\" class=\"node\">\n",
       "<title>node140238854046656</title>\n",
       "<polygon fill=\"none\" stroke=\"black\" stroke-width=\"0.5\" points=\"104,-71 52,-71 52,-39 104,-39 104,-71\"/>\n",
       "<polygon fill=\"#fefecd\" stroke=\"transparent\" points=\"53,-58 53,-70 66,-70 66,-58 53,-58\"/>\n",
       "<polyline fill=\"none\" stroke=\"black\" points=\"53,-58 66,-58 66,-70 \"/>\n",
       "<text text-anchor=\"start\" x=\"56.5\" y=\"-61.8\" font-family=\"Helvetica,sans-Serif\" font-size=\"9.00\" fill=\"#444443\">0</text>\n",
       "<polygon fill=\"#fefecd\" stroke=\"transparent\" points=\"66,-58 66,-70 79,-70 79,-58 66,-58\"/>\n",
       "<polyline fill=\"none\" stroke=\"black\" points=\"66,-58 79,-58 79,-70 \"/>\n",
       "<text text-anchor=\"start\" x=\"69.5\" y=\"-61.8\" font-family=\"Helvetica,sans-Serif\" font-size=\"9.00\" fill=\"#444443\">1</text>\n",
       "<polygon fill=\"#fefecd\" stroke=\"transparent\" points=\"79,-58 79,-70 92,-70 92,-58 79,-58\"/>\n",
       "<polyline fill=\"none\" stroke=\"black\" points=\"79,-58 92,-58 92,-70 \"/>\n",
       "<text text-anchor=\"start\" x=\"82.5\" y=\"-61.8\" font-family=\"Helvetica,sans-Serif\" font-size=\"9.00\" fill=\"#444443\">2</text>\n",
       "<polygon fill=\"#fefecd\" stroke=\"transparent\" points=\"92,-58 92,-70 103,-70 103,-58 92,-58\"/>\n",
       "<polyline fill=\"none\" stroke=\"black\" points=\"92,-58 103,-58 \"/>\n",
       "<text text-anchor=\"start\" x=\"94.5\" y=\"-61.8\" font-family=\"Helvetica,sans-Serif\" font-size=\"9.00\" fill=\"#444443\">3</text>\n",
       "<polygon fill=\"#fefecd\" stroke=\"transparent\" points=\"53,-40 53,-58 66,-58 66,-40 53,-40\"/>\n",
       "<polyline fill=\"none\" stroke=\"black\" points=\"66,-40 66,-58 \"/>\n",
       "<text text-anchor=\"start\" x=\"56\" y=\"-46.2\" font-family=\"Helvetica,sans-Serif\" font-size=\"11.00\" fill=\"#444443\">1</text>\n",
       "<polygon fill=\"#fefecd\" stroke=\"transparent\" points=\"66,-40 66,-58 79,-58 79,-40 66,-40\"/>\n",
       "<polyline fill=\"none\" stroke=\"black\" points=\"79,-40 79,-58 \"/>\n",
       "<text text-anchor=\"start\" x=\"69\" y=\"-46.2\" font-family=\"Helvetica,sans-Serif\" font-size=\"11.00\" fill=\"#444443\">3</text>\n",
       "<polygon fill=\"#fefecd\" stroke=\"transparent\" points=\"79,-40 79,-58 92,-58 92,-40 79,-40\"/>\n",
       "<polyline fill=\"none\" stroke=\"black\" points=\"92,-40 92,-58 \"/>\n",
       "<text text-anchor=\"start\" x=\"82\" y=\"-46.2\" font-family=\"Helvetica,sans-Serif\" font-size=\"11.00\" fill=\"#444443\">5</text>\n",
       "<polygon fill=\"#fefecd\" stroke=\"transparent\" points=\"92,-40 92,-58 103,-58 103,-40 92,-40\"/>\n",
       "<text text-anchor=\"start\" x=\"94\" y=\"-46.2\" font-family=\"Helvetica,sans-Serif\" font-size=\"11.00\" fill=\"#444443\">7</text>\n",
       "</g>\n",
       "<!-- node140238884933696&#45;&gt;node140238854046656 -->\n",
       "<g id=\"edge1\" class=\"edge\">\n",
       "<title>node140238884933696:c&#45;&gt;node140238854046656</title>\n",
       "<path fill=\"none\" stroke=\"#444443\" stroke-width=\"0.5\" d=\"M32.25,-43.81C35.71,-44.68 41.55,-46.14 47.88,-47.72\"/>\n",
       "<ellipse fill=\"#444443\" stroke=\"#444443\" stroke-width=\"0.5\" cx=\"30.55\" cy=\"-43.39\" rx=\"1.6\" ry=\"1.6\"/>\n",
       "<polygon fill=\"#444443\" stroke=\"#444443\" stroke-width=\"0.5\" points=\"47.66,-49.11 51.88,-48.72 48.33,-46.39 47.66,-49.11\"/>\n",
       "</g>\n",
       "<!-- node140238854148224 -->\n",
       "<g id=\"node3\" class=\"node\">\n",
       "<title>node140238854148224</title>\n",
       "<polygon fill=\"none\" stroke=\"black\" stroke-width=\"0.5\" points=\"110,-32 46,-32 46,0 110,0 110,-32\"/>\n",
       "<polygon fill=\"#fefecd\" stroke=\"transparent\" points=\"47,-19 47,-31 63,-31 63,-19 47,-19\"/>\n",
       "<polyline fill=\"none\" stroke=\"black\" points=\"47,-19 63,-19 63,-31 \"/>\n",
       "<text text-anchor=\"start\" x=\"52\" y=\"-22.8\" font-family=\"Helvetica,sans-Serif\" font-size=\"9.00\" fill=\"#444443\">0</text>\n",
       "<polygon fill=\"#fefecd\" stroke=\"transparent\" points=\"63,-19 63,-31 79,-31 79,-19 63,-19\"/>\n",
       "<polyline fill=\"none\" stroke=\"black\" points=\"63,-19 79,-19 79,-31 \"/>\n",
       "<text text-anchor=\"start\" x=\"68\" y=\"-22.8\" font-family=\"Helvetica,sans-Serif\" font-size=\"9.00\" fill=\"#444443\">1</text>\n",
       "<polygon fill=\"#fefecd\" stroke=\"transparent\" points=\"79,-19 79,-31 95,-31 95,-19 79,-19\"/>\n",
       "<polyline fill=\"none\" stroke=\"black\" points=\"79,-19 95,-19 95,-31 \"/>\n",
       "<text text-anchor=\"start\" x=\"84\" y=\"-22.8\" font-family=\"Helvetica,sans-Serif\" font-size=\"9.00\" fill=\"#444443\">2</text>\n",
       "<polygon fill=\"#fefecd\" stroke=\"transparent\" points=\"95,-19 95,-31 109,-31 109,-19 95,-19\"/>\n",
       "<polyline fill=\"none\" stroke=\"black\" points=\"95,-19 109,-19 \"/>\n",
       "<text text-anchor=\"start\" x=\"99\" y=\"-22.8\" font-family=\"Helvetica,sans-Serif\" font-size=\"9.00\" fill=\"#444443\">3</text>\n",
       "<polygon fill=\"#fefecd\" stroke=\"transparent\" points=\"47,-1 47,-19 63,-19 63,-1 47,-1\"/>\n",
       "<polyline fill=\"none\" stroke=\"black\" points=\"63,-1 63,-19 \"/>\n",
       "<text text-anchor=\"start\" x=\"50\" y=\"-7.2\" font-family=\"Helvetica,sans-Serif\" font-size=\"11.00\" fill=\"#444443\">&#45;1</text>\n",
       "<polygon fill=\"#fefecd\" stroke=\"transparent\" points=\"63,-1 63,-19 79,-19 79,-1 63,-1\"/>\n",
       "<polyline fill=\"none\" stroke=\"black\" points=\"79,-1 79,-19 \"/>\n",
       "<text text-anchor=\"start\" x=\"66\" y=\"-7.2\" font-family=\"Helvetica,sans-Serif\" font-size=\"11.00\" fill=\"#444443\">&#45;3</text>\n",
       "<polygon fill=\"#fefecd\" stroke=\"transparent\" points=\"79,-1 79,-19 95,-19 95,-1 79,-1\"/>\n",
       "<polyline fill=\"none\" stroke=\"black\" points=\"95,-1 95,-19 \"/>\n",
       "<text text-anchor=\"start\" x=\"82\" y=\"-7.2\" font-family=\"Helvetica,sans-Serif\" font-size=\"11.00\" fill=\"#444443\">&#45;5</text>\n",
       "<polygon fill=\"#fefecd\" stroke=\"transparent\" points=\"95,-1 95,-19 109,-19 109,-1 95,-1\"/>\n",
       "<text text-anchor=\"start\" x=\"97\" y=\"-7.2\" font-family=\"Helvetica,sans-Serif\" font-size=\"11.00\" fill=\"#444443\">&#45;7</text>\n",
       "</g>\n",
       "<!-- node140238884933696&#45;&gt;node140238854148224 -->\n",
       "<g id=\"edge2\" class=\"edge\">\n",
       "<title>node140238884933696:c&#45;&gt;node140238854148224</title>\n",
       "<path fill=\"none\" stroke=\"#444443\" stroke-width=\"0.5\" d=\"M32.13,-26.28C34.42,-25.76 37.82,-24.98 41.73,-24.08\"/>\n",
       "<ellipse fill=\"#444443\" stroke=\"#444443\" stroke-width=\"0.5\" cx=\"30.56\" cy=\"-26.64\" rx=\"1.6\" ry=\"1.6\"/>\n",
       "<polygon fill=\"#444443\" stroke=\"#444443\" stroke-width=\"0.5\" points=\"42.2,-25.41 45.79,-23.15 41.58,-22.68 42.2,-25.41\"/>\n",
       "</g>\n",
       "</g>\n",
       "</svg>\n"
      ],
      "text/plain": [
       "<graphviz.files.Source at 0x7f8be8ddfd60>"
      ]
     },
     "execution_count": 82,
     "metadata": {},
     "output_type": "execute_result"
    }
   ],
   "source": [
    "callviz(varnames = ['a', 'a2'])"
   ]
  },
  {
   "cell_type": "code",
   "execution_count": null,
   "metadata": {},
   "outputs": [],
   "source": []
  }
 ],
 "metadata": {
  "kernelspec": {
   "display_name": "Python 3",
   "language": "python",
   "name": "python3"
  },
  "language_info": {
   "codemirror_mode": {
    "name": "ipython",
    "version": 3
   },
   "file_extension": ".py",
   "mimetype": "text/x-python",
   "name": "python",
   "nbconvert_exporter": "python",
   "pygments_lexer": "ipython3",
   "version": "3.8.3"
  }
 },
 "nbformat": 4,
 "nbformat_minor": 4
}
