{
 "cells": [
  {
   "cell_type": "markdown",
   "metadata": {},
   "source": [
    "Suren Gunturu"
   ]
  },
  {
   "cell_type": "markdown",
   "metadata": {},
   "source": [
    "# Problem 3"
   ]
  },
  {
   "cell_type": "code",
   "execution_count": 56,
   "metadata": {},
   "outputs": [],
   "source": [
    "import numpy as np\n",
    "import pandas as pd\n",
    "from scipy import linalg as ln\n",
    "from numpy.linalg import matrix_power"
   ]
  },
  {
   "cell_type": "markdown",
   "metadata": {},
   "source": [
    "### Google Version Number 11"
   ]
  },
  {
   "cell_type": "code",
   "execution_count": 57,
   "metadata": {},
   "outputs": [],
   "source": [
    "#create A * D^-1 and the Teleportation Matrix S\n",
    "AD = np.array([0, 0, 1/2, 1/2, 0, 1/3, 0, 0, 0, 0, 1/3, 1/2, 0, 1/2, 1, 1/3, 1/2, 0, 0, 0, 0, 0, 1/2, 0, 0]).reshape(5, 5)\n",
    "S = 1/5 * np.ones((5, 5))"
   ]
  },
  {
   "cell_type": "code",
   "execution_count": 58,
   "metadata": {},
   "outputs": [
    {
     "data": {
      "text/plain": [
       "array([[0.03      , 0.03      , 0.455     , 0.455     , 0.03      ],\n",
       "       [0.31333333, 0.03      , 0.03      , 0.03      , 0.03      ],\n",
       "       [0.31333333, 0.455     , 0.03      , 0.455     , 0.88      ],\n",
       "       [0.31333333, 0.455     , 0.03      , 0.03      , 0.03      ],\n",
       "       [0.03      , 0.03      , 0.455     , 0.03      , 0.03      ]])"
      ]
     },
     "execution_count": 58,
     "metadata": {},
     "output_type": "execute_result"
    }
   ],
   "source": [
    "#create M matrix and create a random probability vector x where entries add up to 1\n",
    "M = (1 - 0.15) * AD + 0.15 * S\n",
    "x = np.random.rand(5, 1)\n",
    "x = x / np.sum(x)\n",
    "M"
   ]
  },
  {
   "cell_type": "code",
   "execution_count": 33,
   "metadata": {},
   "outputs": [
    {
     "data": {
      "text/plain": [
       "0.9999999999999993"
      ]
     },
     "execution_count": 33,
     "metadata": {},
     "output_type": "execute_result"
    }
   ],
   "source": [
    "#find eigenvalue of M equaling one\n",
    "eigenvals, eigenvect = ln.eig(M)\n",
    "lambda1 = eigenvals.real[0]\n",
    "lambda1"
   ]
  },
  {
   "cell_type": "code",
   "execution_count": 34,
   "metadata": {},
   "outputs": [
    {
     "data": {
      "text/plain": [
       "array([0.48570997-0.j, 0.19906365-0.j, 0.71460286-0.j, 0.2836657 -0.j,\n",
       "       0.36515204-0.j])"
      ]
     },
     "execution_count": 34,
     "metadata": {},
     "output_type": "execute_result"
    }
   ],
   "source": [
    "#find eigenvector corresponding to eigenvalue = 1\n",
    "lambda1EigenVect = eigenvect[:, 0]\n",
    "lambda1EigenVect = lambda1EigenVect * -1\n",
    "lambda1EigenVect"
   ]
  },
  {
   "cell_type": "code",
   "execution_count": 59,
   "metadata": {},
   "outputs": [],
   "source": [
    "#compute the rank matrix from M^100 * x\n",
    "dict_lambda1 = {j:i for i,j in enumerate(lambda1EigenVect)}\n",
    "rank = matrix_power(M, 100) @ x"
   ]
  },
  {
   "cell_type": "code",
   "execution_count": 64,
   "metadata": {},
   "outputs": [
    {
     "name": "stdout",
     "output_type": "stream",
     "text": [
      "Ranking of Websites using Rank Vector: \n",
      "For Website 1, Rank: 0.237\n",
      "For Website 2, Rank: 0.097\n",
      "For Website 3, Rank: 0.349\n",
      "For Website 4, Rank: 0.138\n",
      "For Website 5, Rank: 0.178\n",
      "\n",
      "\n",
      "Ranking of Websites using Eigenvector: \n",
      "For Website 1, Rank: 0.485\n",
      "For Website 2, Rank: 0.199\n",
      "For Website 3, Rank: 0.714\n",
      "For Website 4, Rank: 0.283\n",
      "For Website 5, Rank: 0.365\n"
     ]
    }
   ],
   "source": [
    "#looks like rank = 1/2 * (Eigenvector corresponding to lambda = 1)\n",
    "print(\"Ranking of Websites using Rank Vector: \")\n",
    "for i in np.arange(0, 5): \n",
    "    print(\"For Website \" + str(i + 1) + \", Rank: \" + str(round(rank[i][0], 3)))\n",
    "\n",
    "print(\"\\n\")\n",
    "    \n",
    "print(\"Ranking of Websites using Eigenvector: \")\n",
    "for i in np.arange(0, 5): \n",
    "    print(\"For Website \" + str(i + 1) + \", Rank: \" + str(round(lambda1EigenVect[i].real, 3)))"
   ]
  },
  {
   "cell_type": "markdown",
   "metadata": {},
   "source": [
    "### Google Version Problem 12"
   ]
  },
  {
   "cell_type": "code",
   "execution_count": 65,
   "metadata": {},
   "outputs": [],
   "source": [
    "#Compute AD^-1 and M matrix\n",
    "#Compute random probability vector x that sums up to 1\n",
    "#Website 6 is NOT pointing to itself\n",
    "AD = np.array([0, 0, 1/2, 1/2, 0, 1/5, 1/3, 0, 0, 0, 0, 1/5, 1/3, 1/2, 0, 1/2, 1, 1/5, 1/3, 1/2, 0, 0, 0, 1/5, 0, 0, 1/2, 0, 0, 1/5, 0, 0, 0, 0, 0, 0]).reshape(6, 6)\n",
    "S = 1/6 * np.ones((6, 6))\n",
    "M = (1 - 0.15) * AD + 0.15 * S\n",
    "x = np.random.rand(6, 1)\n",
    "x = x / np.sum(x)"
   ]
  },
  {
   "cell_type": "code",
   "execution_count": 70,
   "metadata": {},
   "outputs": [
    {
     "name": "stdout",
     "output_type": "stream",
     "text": [
      "Ranking of Websites with AD^-1: \n",
      "For Website 1, Rank: 0.245\n",
      "For Website 2, Rank: 0.082\n",
      "For Website 3, Rank: 0.367\n",
      "For Website 4, Rank: 0.122\n",
      "For Website 5, Rank: 0.184\n",
      "For Website 6, Rank: 0.0\n",
      "\n",
      "\n",
      "Ranking of Websites using Eigenvector: \n",
      "For Website 1, Rank: 0.489\n",
      "For Website 2, Rank: 0.163\n",
      "For Website 3, Rank: 0.734\n",
      "For Website 4, Rank: 0.245\n",
      "For Website 5, Rank: 0.367\n",
      "For Website 6, Rank: -0.0\n"
     ]
    }
   ],
   "source": [
    "#get the eigenvector corresponding to eigenvalue = 1 \n",
    "#get the rank vector from (AD^-1)^1000 * x\n",
    "#The rank matrix is = 1/2 * eigenvector corresponding to eigenvalue = 1\n",
    "eigvals, eigvecs = ln.eig(AD)\n",
    "lambda1EigenVect = eigvecs[:, 0]\n",
    "lambda1EigenVect = -1 * lambda1EigenVect\n",
    "print(\"Ranking of Websites with AD^-1: \")\n",
    "rank = matrix_power(AD, 1000) @ x\n",
    "for i in np.arange(0, 6): \n",
    "    print(\"For Website \" + str(i + 1) + \", Rank: \" + str(round(rank[i][0], 3)))\n",
    "    \n",
    "print(\"\\n\")\n",
    "    \n",
    "print(\"Ranking of Websites using Eigenvector: \")\n",
    "for i in np.arange(0, 6): \n",
    "    print(\"For Website \" + str(i + 1) + \", Rank: \" + str(round(lambda1EigenVect[i].real, 3)))"
   ]
  },
  {
   "cell_type": "code",
   "execution_count": 71,
   "metadata": {},
   "outputs": [
    {
     "name": "stdout",
     "output_type": "stream",
     "text": [
      "Ranking of Websites with M: \n",
      "For Website 1, Rank: 0.231\n",
      "For Website 2, Rank: 0.095\n",
      "For Website 3, Rank: 0.34\n",
      "For Website 4, Rank: 0.135\n",
      "For Website 5, Rank: 0.174\n",
      "For Website 6, Rank: 0.025\n",
      "\n",
      "\n",
      "Ranking of Websites using Eigenvector: \n",
      "For Website 1, Rank: 0.485\n",
      "For Website 2, Rank: 0.199\n",
      "For Website 3, Rank: 0.714\n",
      "For Website 4, Rank: 0.283\n",
      "For Website 5, Rank: 0.365\n",
      "For Website 6, Rank: 0.052\n"
     ]
    }
   ],
   "source": [
    "#get the eigenvector corresponding to eigenvalue = 1 \n",
    "#get the rank vector from (M)^1000 * x\n",
    "#The rank matrix is = 1/2 * eigenvector corresponding to eigenvalue = 1\n",
    "M = (1 - 0.15) * AD + 0.15 * S\n",
    "eigenvals, eigenvect = ln.eig(M)\n",
    "lambda1EigenVect = eigenvect[:, 0]\n",
    "lambda1EigenVect = -1 * lambda1EigenVect\n",
    "rank = matrix_power(M, 1000) @ x\n",
    "print(\"Ranking of Websites with M: \")\n",
    "for i in np.arange(0, 6): \n",
    "    print(\"For Website \" + str(i + 1) + \", Rank: \" + str(round(rank[i][0], 3)))\n",
    "    \n",
    "print(\"\\n\")\n",
    "    \n",
    "print(\"Ranking of Websites using Eigenvector: \")\n",
    "for i in np.arange(0, 6): \n",
    "    print(\"For Website \" + str(i + 1) + \", Rank: \" + str(round(lambda1EigenVect[i].real, 3)))"
   ]
  },
  {
   "cell_type": "markdown",
   "metadata": {},
   "source": [
    "The actual rank values are a little bit different between M and A but the rank comparisons between websites are the same. In other words, website 3 > 1 > 5 > 4 > 2 > 6 in terms of ranks for both M and A with an m = 0.15. \n",
    "\n",
    "Also for the AD^-1, there is no probability of getting to website 6 is zero. "
   ]
  },
  {
   "cell_type": "markdown",
   "metadata": {},
   "source": [
    "# Problem 4"
   ]
  },
  {
   "cell_type": "markdown",
   "metadata": {},
   "source": [
    "just run the code in order from top to bottom "
   ]
  },
  {
   "cell_type": "code",
   "execution_count": 40,
   "metadata": {},
   "outputs": [],
   "source": [
    "blog = pd.read_csv(\"blog.csv\")\n",
    "ncaa = pd.read_csv(\"ncaafb2017.csv\")"
   ]
  },
  {
   "cell_type": "code",
   "execution_count": 41,
   "metadata": {},
   "outputs": [
    {
     "data": {
      "text/html": [
       "<div>\n",
       "<style scoped>\n",
       "    .dataframe tbody tr th:only-of-type {\n",
       "        vertical-align: middle;\n",
       "    }\n",
       "\n",
       "    .dataframe tbody tr th {\n",
       "        vertical-align: top;\n",
       "    }\n",
       "\n",
       "    .dataframe thead th {\n",
       "        text-align: right;\n",
       "    }\n",
       "</style>\n",
       "<table border=\"1\" class=\"dataframe\">\n",
       "  <thead>\n",
       "    <tr style=\"text-align: right;\">\n",
       "      <th></th>\n",
       "      <th>267</th>\n",
       "      <th>1394</th>\n",
       "    </tr>\n",
       "  </thead>\n",
       "  <tbody>\n",
       "    <tr>\n",
       "      <th>0</th>\n",
       "      <td>267</td>\n",
       "      <td>483</td>\n",
       "    </tr>\n",
       "    <tr>\n",
       "      <th>1</th>\n",
       "      <td>267</td>\n",
       "      <td>1051</td>\n",
       "    </tr>\n",
       "    <tr>\n",
       "      <th>2</th>\n",
       "      <td>904</td>\n",
       "      <td>1479</td>\n",
       "    </tr>\n",
       "    <tr>\n",
       "      <th>3</th>\n",
       "      <td>904</td>\n",
       "      <td>919</td>\n",
       "    </tr>\n",
       "    <tr>\n",
       "      <th>4</th>\n",
       "      <td>904</td>\n",
       "      <td>1045</td>\n",
       "    </tr>\n",
       "  </tbody>\n",
       "</table>\n",
       "</div>"
      ],
      "text/plain": [
       "   267  1394\n",
       "0  267   483\n",
       "1  267  1051\n",
       "2  904  1479\n",
       "3  904   919\n",
       "4  904  1045"
      ]
     },
     "execution_count": 41,
     "metadata": {},
     "output_type": "execute_result"
    }
   ],
   "source": [
    "blog.head()"
   ]
  },
  {
   "cell_type": "code",
   "execution_count": null,
   "metadata": {},
   "outputs": [],
   "source": []
  },
  {
   "cell_type": "code",
   "execution_count": 42,
   "metadata": {},
   "outputs": [
    {
     "data": {
      "text/html": [
       "<div>\n",
       "<style scoped>\n",
       "    .dataframe tbody tr th:only-of-type {\n",
       "        vertical-align: middle;\n",
       "    }\n",
       "\n",
       "    .dataframe tbody tr th {\n",
       "        vertical-align: top;\n",
       "    }\n",
       "\n",
       "    .dataframe thead th {\n",
       "        text-align: right;\n",
       "    }\n",
       "</style>\n",
       "<table border=\"1\" class=\"dataframe\">\n",
       "  <thead>\n",
       "    <tr style=\"text-align: right;\">\n",
       "      <th></th>\n",
       "      <th>Home</th>\n",
       "      <th>Visitor</th>\n",
       "      <th>Visitor_Score</th>\n",
       "      <th>Home_Score</th>\n",
       "    </tr>\n",
       "  </thead>\n",
       "  <tbody>\n",
       "    <tr>\n",
       "      <th>0</th>\n",
       "      <td>Colorado St.</td>\n",
       "      <td>Oregon St.</td>\n",
       "      <td>27</td>\n",
       "      <td>58</td>\n",
       "    </tr>\n",
       "    <tr>\n",
       "      <th>1</th>\n",
       "      <td>Massachusetts</td>\n",
       "      <td>Hawaii</td>\n",
       "      <td>38</td>\n",
       "      <td>35</td>\n",
       "    </tr>\n",
       "    <tr>\n",
       "      <th>2</th>\n",
       "      <td>San Jose St.</td>\n",
       "      <td>South Florida</td>\n",
       "      <td>42</td>\n",
       "      <td>22</td>\n",
       "    </tr>\n",
       "    <tr>\n",
       "      <th>3</th>\n",
       "      <td>Stanford</td>\n",
       "      <td>Rice</td>\n",
       "      <td>7</td>\n",
       "      <td>62</td>\n",
       "    </tr>\n",
       "    <tr>\n",
       "      <th>4</th>\n",
       "      <td>Alabama</td>\n",
       "      <td>Florida St.</td>\n",
       "      <td>7</td>\n",
       "      <td>24</td>\n",
       "    </tr>\n",
       "  </tbody>\n",
       "</table>\n",
       "</div>"
      ],
      "text/plain": [
       "            Home        Visitor  Visitor_Score  Home_Score\n",
       "0   Colorado St.     Oregon St.             27          58\n",
       "1  Massachusetts         Hawaii             38          35\n",
       "2   San Jose St.  South Florida             42          22\n",
       "3       Stanford           Rice              7          62\n",
       "4        Alabama    Florida St.              7          24"
      ]
     },
     "execution_count": 42,
     "metadata": {},
     "output_type": "execute_result"
    }
   ],
   "source": [
    "ncaa.head()"
   ]
  },
  {
   "cell_type": "markdown",
   "metadata": {},
   "source": [
    "### Blog Adjacency Matrix"
   ]
  },
  {
   "cell_type": "code",
   "execution_count": 43,
   "metadata": {},
   "outputs": [],
   "source": [
    "#organize blogs to and blogs from\n",
    "blog_from = blog[\"267\"].values\n",
    "blog_from = np.insert(blog_from, 0, 267)\n",
    "blog_to = blog[\"1394\"].values\n",
    "blog_to = np.insert(blog_to, 0, 1394)"
   ]
  },
  {
   "cell_type": "code",
   "execution_count": 44,
   "metadata": {},
   "outputs": [],
   "source": [
    "#map unique blogs to indices of a matrix that I will create \n",
    "#have another dictionary that does the mapping the other way around\n",
    "blog_numbs = np.unique(np.append(blog_from, blog_to))\n",
    "dict_to_index = {j:i for i, j in enumerate(blog_numbs)}\n",
    "dict_to_blog = {i:j for i, j in enumerate(blog_numbs)}"
   ]
  },
  {
   "cell_type": "code",
   "execution_count": 45,
   "metadata": {},
   "outputs": [
    {
     "data": {
      "text/plain": [
       "0.0"
      ]
     },
     "execution_count": 45,
     "metadata": {},
     "output_type": "execute_result"
    }
   ],
   "source": [
    "#create adjacency matrix with col -> row from the blog number in the first column to second column\n",
    "size = len(blog_numbs)\n",
    "blog_matrix = np.zeros((size, size))\n",
    "for i in np.arange(len(blog_from)): \n",
    "    blog_matrix[dict_to_index[blog_to[i]], dict_to_index[blog_from[i]]] = 1.0\n",
    "    \n",
    "blog_matrix[1,0]"
   ]
  },
  {
   "cell_type": "markdown",
   "metadata": {},
   "source": [
    "### NCAA Adjacency Matrix"
   ]
  },
  {
   "cell_type": "code",
   "execution_count": 46,
   "metadata": {},
   "outputs": [],
   "source": [
    "#Create a dictionary to map college teams to indices\n",
    "teams = np.append(ncaa[\"Home\"].values, ncaa['Visitor'].values)\n",
    "teams = np.unique(teams)\n",
    "dict_teams = {i:j for j, i in enumerate(teams)}\n",
    "dict_index = {j:i for j, i in enumerate(teams)}"
   ]
  },
  {
   "cell_type": "code",
   "execution_count": 47,
   "metadata": {},
   "outputs": [],
   "source": [
    "#have an edge pointing from losing team to winning team \n",
    "size = len(teams)\n",
    "ncaa_matrix = np.zeros((size, size))\n",
    "team_win = np.array([])\n",
    "team_lose = np.array([])\n",
    "for i, row in ncaa.iterrows(): \n",
    "    if row[\"Home_Score\"] > row[\"Visitor_Score\"]: \n",
    "        team_win = np.append(team_win, row[\"Home\"])\n",
    "        team_lose = np.append(team_lose, row[\"Visitor\"])\n",
    "    elif row[\"Home_Score\"] < row[\"Visitor_Score\"]: \n",
    "        team_win = np.append(team_win, row[\"Visitor\"])\n",
    "        team_lose = np.append(team_lose, row[\"Home\"])\n",
    "index_win = np.array([])\n",
    "index_lose = np.array([])\n",
    "for i in team_win: \n",
    "    index_win = np.append(index_win, dict_teams[i])\n",
    "for i in team_lose: \n",
    "    index_lose = np.append(index_lose, dict_teams[i])\n",
    "    \n",
    "\n",
    "ncaa_matrix[index_win.astype(int), index_lose.astype(int)] = 1"
   ]
  },
  {
   "cell_type": "markdown",
   "metadata": {},
   "source": [
    "### Page Rank Matrix"
   ]
  },
  {
   "cell_type": "code",
   "execution_count": 48,
   "metadata": {},
   "outputs": [],
   "source": [
    "def makePageRankMatrix(matrix, size): \n",
    "    \"\"\"\n",
    "    matrix --> adjacency matrix A\n",
    "    size --> matrix is size x size (a square matrix)\n",
    "    \n",
    "    calculate AD^-1 and then calculate M from that\n",
    "    if A has columns sum up to zero, change to column of ones\n",
    "    \"\"\"\n",
    "    sum_cols = np.sum(matrix, axis = 0)\n",
    "    for i in np.arange(len(sum_cols)): \n",
    "        if sum_cols[i] == 0: \n",
    "            for j in np.arange(size): \n",
    "                #change to columns of ones from columns of zeroes\n",
    "                matrix[j, i] = 1\n",
    "    matrix = matrix / np.sum(matrix, axis = 0)\n",
    "    M = 0.85 * matrix + 0.15 * 1 / size * np.ones((size, size))\n",
    "    return M"
   ]
  },
  {
   "cell_type": "code",
   "execution_count": 49,
   "metadata": {},
   "outputs": [],
   "source": [
    "from numpy.linalg import matrix_power\n",
    "def getPageRankVector(M, k, size): \n",
    "    \"\"\"\n",
    "    M --> the M matrix \n",
    "    k --> the power of M (M ^ k) to multiply by the random probability vector x\n",
    "    size --> M is size x size\n",
    "    \n",
    "    calculate the page rank vector by multiplying M^k by x\n",
    "    \"\"\"\n",
    "    eigenvals, eigenvect = ln.eig(M)\n",
    "    #print(eigenvals[0])\n",
    "    lambda1_eigenVec = eigenvect[:, 0]\n",
    "    #print(lambda1_eigenVec)\n",
    "    M_power = matrix_power(M, k)\n",
    "    x_vect = np.random.rand(size, 1)\n",
    "    res1 = np.dot(M_power, x_vect / np.sum(x_vect)).reshape((size, ))\n",
    "    res_vals = np.array([\n",
    "        res1\n",
    "    ])\n",
    "    #calculate 1000 page rank values and average all entries to get the actual pagerank vector\n",
    "    for i in np.arange(1000): \n",
    "        x = np.random.rand(size, 1)\n",
    "        #make x a probability vector \n",
    "        x = x / np.sum(x)\n",
    "        res = np.dot(M_power, x)\n",
    "        res = np.array(res.reshape((size, )))\n",
    "        res_vals = np.insert(res_vals, len(res_vals), res, axis = 0)\n",
    "    return np.mean(res_vals, axis = 0)"
   ]
  },
  {
   "cell_type": "code",
   "execution_count": 50,
   "metadata": {},
   "outputs": [],
   "source": [
    "def getRanks(p, other_dict): \n",
    "    \"\"\"\n",
    "    p --> page rank vector\n",
    "    \n",
    "    other_dict --> dictionary to map indices of matrix to actual blog or ncaa values\n",
    "    \n",
    "    print out the top 10 and bottom 10 ranks \n",
    "    \n",
    "    \"\"\"\n",
    "    dict_rank = {i : j for i, j in enumerate(p)}\n",
    "    top_ranks = sorted(dict_rank.items(), key=lambda x: x[1], reverse=True)\n",
    "    bottom_ranks = sorted(dict_rank.items(), key=lambda x: x[1], reverse=False)\n",
    "    numb = 10\n",
    "    print('\\033[1m' + 'Top 10 Ranks: ')\n",
    "    print('\\033[0m')\n",
    "    top_10 = np.array([other_dict[i[0]] for i in top_ranks][0:numb])\n",
    "    bot_10 = np.array([other_dict[i[0]] for i in top_ranks][-numb:])\n",
    "    for i in np.arange(numb): \n",
    "        print(str(i + 1) + \" rank: \" + str(top_10[i]))\n",
    "    print('\\033[1m' + 'Bottom 10 Ranks: ')\n",
    "    print('\\033[0m')\n",
    "    for i in np.arange(numb): \n",
    "        print(str(i + 1) + \" rank: \" + str(bot_10[numb - i - 1]))"
   ]
  },
  {
   "cell_type": "markdown",
   "metadata": {},
   "source": [
    "#### PageRank Vector for Blog"
   ]
  },
  {
   "cell_type": "code",
   "execution_count": 51,
   "metadata": {},
   "outputs": [],
   "source": [
    "#call functions above for Blog\n",
    "M = makePageRankMatrix(blog_matrix, len(blog_numbs))"
   ]
  },
  {
   "cell_type": "code",
   "execution_count": 52,
   "metadata": {},
   "outputs": [
    {
     "name": "stdout",
     "output_type": "stream",
     "text": [
      "\u001b[1mTop 10 Ranks: \n",
      "\u001b[0m\n",
      "1 rank: 155\n",
      "2 rank: 55\n",
      "3 rank: 1051\n",
      "4 rank: 855\n",
      "5 rank: 641\n",
      "6 rank: 1153\n",
      "7 rank: 963\n",
      "8 rank: 729\n",
      "9 rank: 1245\n",
      "10 rank: 798\n",
      "\u001b[1mBottom 10 Ranks: \n",
      "\u001b[0m\n",
      "1 rank: 1490\n",
      "2 rank: 1488\n",
      "3 rank: 1484\n",
      "4 rank: 1481\n",
      "5 rank: 1450\n",
      "6 rank: 1440\n",
      "7 rank: 1439\n",
      "8 rank: 1434\n",
      "9 rank: 1431\n",
      "10 rank: 1410\n"
     ]
    }
   ],
   "source": [
    "pageRankVect = getPageRankVector(M, 10 ** 3, len(blog_numbs))\n",
    "getRanks(pageRankVect, other_dict = dict_to_blog)"
   ]
  },
  {
   "cell_type": "markdown",
   "metadata": {},
   "source": [
    "#### Page Rank Vector for NCAA"
   ]
  },
  {
   "cell_type": "code",
   "execution_count": 54,
   "metadata": {},
   "outputs": [
    {
     "data": {
      "text/plain": [
       "0.12258241758241757"
      ]
     },
     "execution_count": 54,
     "metadata": {},
     "output_type": "execute_result"
    }
   ],
   "source": [
    "#call functions above for NCAA\n",
    "M_ncaa = makePageRankMatrix(ncaa_matrix, len(teams))\n",
    "M_ncaa[len(teams) - 1, 0]"
   ]
  },
  {
   "cell_type": "code",
   "execution_count": 55,
   "metadata": {},
   "outputs": [
    {
     "name": "stdout",
     "output_type": "stream",
     "text": [
      "\u001b[1mTop 10 Ranks: \n",
      "\u001b[0m\n",
      "1 rank: Auburn\n",
      "2 rank: Alabama\n",
      "3 rank: Georgia\n",
      "4 rank: Ohio St.\n",
      "5 rank: Oklahoma\n",
      "6 rank: Clemson\n",
      "7 rank: Iowa\n",
      "8 rank: Iowa St.\n",
      "9 rank: Central Florida\n",
      "10 rank: Wisconsin\n",
      "\u001b[1mBottom 10 Ranks: \n",
      "\u001b[0m\n",
      "1 rank: UTEP\n",
      "2 rank: Oregon St.\n",
      "3 rank: Kansas\n",
      "4 rank: Rice\n",
      "5 rank: Baylor\n",
      "6 rank: Texas St.\n",
      "7 rank: Kent\n",
      "8 rank: Hawaii\n",
      "9 rank: Illinois\n",
      "10 rank: Bowling Green\n"
     ]
    }
   ],
   "source": [
    "p_ncaa = getPageRankVector(M_ncaa, 100, len(teams))\n",
    "\n",
    "getRanks(p_ncaa, other_dict = {i: j for i, j in enumerate(teams)})\n",
    "dict_rank = {dict_index[i]:j for i, j in enumerate(p_ncaa)}\n",
    "#sorted(dict_rank.items(), key = lambda x: x[1], reverse = True)"
   ]
  },
  {
   "cell_type": "markdown",
   "metadata": {},
   "source": [
    "## Extra NCAA for Fun NOT PART OF THE HW"
   ]
  },
  {
   "cell_type": "code",
   "execution_count": 48,
   "metadata": {},
   "outputs": [],
   "source": [
    "#THIS IS FOR FUN, NOT PART OF THE HW\n",
    "#Weighting the edges by how much a team wins by\n",
    "size = len(teams)\n",
    "ncaa_matrix = np.zeros((size, size))\n",
    "team_win = np.array([])\n",
    "team_lose = np.array([])\n",
    "win_by = np.array([])\n",
    "for i, row in ncaa.iterrows(): \n",
    "    if row[\"Home_Score\"] > row[\"Visitor_Score\"]: \n",
    "        team_win = np.append(team_win, row[\"Home\"])\n",
    "        team_lose = np.append(team_lose, row[\"Visitor\"])\n",
    "        win_by = np.append(win_by, row[\"Home_Score\"] - row[\"Visitor_Score\"])\n",
    "    elif row[\"Home_Score\"] < row[\"Visitor_Score\"]: \n",
    "        team_win = np.append(team_win, row[\"Visitor\"])\n",
    "        team_lose = np.append(team_lose, row[\"Home\"])\n",
    "        win_by = np.append(win_by, row[\"Visitor_Score\"] - row[\"Home_Score\"])\n",
    "index_win = np.array([])\n",
    "index_lose = np.array([])\n",
    "for i in team_win: \n",
    "    index_win = np.append(index_win, dict_teams[i])\n",
    "for i in team_lose: \n",
    "    index_lose = np.append(index_lose, dict_teams[i])\n",
    "    \n",
    "\n",
    "ncaa_matrix[index_win.astype(int), index_lose.astype(int)] = win_by"
   ]
  },
  {
   "cell_type": "code",
   "execution_count": 49,
   "metadata": {},
   "outputs": [],
   "source": [
    "M_ncaa = makePageRankMatrix(ncaa_matrix, len(teams))"
   ]
  },
  {
   "cell_type": "code",
   "execution_count": 50,
   "metadata": {},
   "outputs": [
    {
     "name": "stdout",
     "output_type": "stream",
     "text": [
      "(1.000000000000004+0j)\n",
      "\u001b[1mTop 10 Ranks: \n",
      "\u001b[0m\n",
      "1 rank: Auburn\n",
      "2 rank: Georgia\n",
      "3 rank: Alabama\n",
      "4 rank: Ohio St.\n",
      "5 rank: Clemson\n",
      "6 rank: Oklahoma\n",
      "7 rank: Iowa\n",
      "8 rank: Central Florida\n",
      "9 rank: Wisconsin\n",
      "10 rank: Iowa St.\n",
      "\u001b[1mBottom 10 Ranks: \n",
      "\u001b[0m\n",
      "1 rank: UTEP\n",
      "2 rank: Oregon St.\n",
      "3 rank: Kansas\n",
      "4 rank: Charlotte\n",
      "5 rank: Rice\n",
      "6 rank: Kent\n",
      "7 rank: San Jose St.\n",
      "8 rank: Baylor\n",
      "9 rank: Hawaii\n",
      "10 rank: Cincinnati\n"
     ]
    }
   ],
   "source": [
    "p_ncaa = getPageRankVector(M_ncaa, 100, len(teams))\n",
    "\n",
    "getRanks(p_ncaa, other_dict = {i: j for i, j in enumerate(teams)})"
   ]
  }
 ],
 "metadata": {
  "kernelspec": {
   "display_name": "Python 3",
   "language": "python",
   "name": "python3"
  },
  "language_info": {
   "codemirror_mode": {
    "name": "ipython",
    "version": 3
   },
   "file_extension": ".py",
   "mimetype": "text/x-python",
   "name": "python",
   "nbconvert_exporter": "python",
   "pygments_lexer": "ipython3",
   "version": "3.8.5"
  }
 },
 "nbformat": 4,
 "nbformat_minor": 4
}
